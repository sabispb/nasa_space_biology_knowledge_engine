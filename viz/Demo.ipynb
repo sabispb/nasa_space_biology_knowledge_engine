{
 "cells": [
  {
   "cell_type": "markdown",
   "id": "22d2c6eb",
   "metadata": {},
   "source": [
    "# Libraries"
   ]
  },
  {
   "cell_type": "code",
   "execution_count": 3,
   "id": "6fa71913",
   "metadata": {},
   "outputs": [],
   "source": [
    "import pandas as pd\n",
    "from tqdm import tqdm\n",
    "\n",
    "from wordcloud import WordCloud\n",
    "import matplotlib.pyplot as plt\n",
    "import plotly.express as px\n",
    "import squarify"
   ]
  },
  {
   "cell_type": "code",
   "execution_count": 6,
   "id": "7145eddf",
   "metadata": {},
   "outputs": [
    {
     "data": {
      "text/html": [
       "<div>\n",
       "<style scoped>\n",
       "    .dataframe tbody tr th:only-of-type {\n",
       "        vertical-align: middle;\n",
       "    }\n",
       "\n",
       "    .dataframe tbody tr th {\n",
       "        vertical-align: top;\n",
       "    }\n",
       "\n",
       "    .dataframe thead th {\n",
       "        text-align: right;\n",
       "    }\n",
       "</style>\n",
       "<table border=\"1\" class=\"dataframe\">\n",
       "  <thead>\n",
       "    <tr style=\"text-align: right;\">\n",
       "      <th></th>\n",
       "      <th>Title</th>\n",
       "      <th>Link</th>\n",
       "      <th>pmc</th>\n",
       "      <th>article_type</th>\n",
       "      <th>language</th>\n",
       "      <th>journal</th>\n",
       "      <th>publisher</th>\n",
       "      <th>publication_year</th>\n",
       "    </tr>\n",
       "  </thead>\n",
       "  <tbody>\n",
       "    <tr>\n",
       "      <th>0</th>\n",
       "      <td>Mice in Bion-M 1 space mission: training and s...</td>\n",
       "      <td>https://www.ncbi.nlm.nih.gov/pmc/articles/PMC4...</td>\n",
       "      <td>4136787</td>\n",
       "      <td>research article</td>\n",
       "      <td>en</td>\n",
       "      <td>PLoS ONE</td>\n",
       "      <td>PLOS</td>\n",
       "      <td>2014</td>\n",
       "    </tr>\n",
       "    <tr>\n",
       "      <th>1</th>\n",
       "      <td>Microgravity induces pelvic bone loss through ...</td>\n",
       "      <td>https://www.ncbi.nlm.nih.gov/pmc/articles/PMC3...</td>\n",
       "      <td>3630201</td>\n",
       "      <td>research article</td>\n",
       "      <td>en</td>\n",
       "      <td>PLoS ONE</td>\n",
       "      <td>PLOS</td>\n",
       "      <td>2013</td>\n",
       "    </tr>\n",
       "    <tr>\n",
       "      <th>2</th>\n",
       "      <td>Stem Cell Health and Tissue Regeneration in Mi...</td>\n",
       "      <td>https://www.ncbi.nlm.nih.gov/pmc/articles/PMC1...</td>\n",
       "      <td>11988870</td>\n",
       "      <td>review article</td>\n",
       "      <td>en</td>\n",
       "      <td>International Journal of Molecular Sciences</td>\n",
       "      <td>Multidisciplinary Digital Publishing Institute...</td>\n",
       "      <td>2025</td>\n",
       "    </tr>\n",
       "    <tr>\n",
       "      <th>3</th>\n",
       "      <td>Microgravity Reduces the Differentiation and R...</td>\n",
       "      <td>https://www.ncbi.nlm.nih.gov/pmc/articles/PMC7...</td>\n",
       "      <td>7998608</td>\n",
       "      <td>research article</td>\n",
       "      <td>en</td>\n",
       "      <td>Cells</td>\n",
       "      <td>Multidisciplinary Digital Publishing Institute...</td>\n",
       "      <td>2021</td>\n",
       "    </tr>\n",
       "    <tr>\n",
       "      <th>4</th>\n",
       "      <td>Microgravity validation of a novel system for ...</td>\n",
       "      <td>https://www.ncbi.nlm.nih.gov/pmc/articles/PMC5...</td>\n",
       "      <td>5587110</td>\n",
       "      <td>research article</td>\n",
       "      <td>en</td>\n",
       "      <td>PLoS ONE</td>\n",
       "      <td>PLOS</td>\n",
       "      <td>2017</td>\n",
       "    </tr>\n",
       "  </tbody>\n",
       "</table>\n",
       "</div>"
      ],
      "text/plain": [
       "                                               Title  \\\n",
       "0  Mice in Bion-M 1 space mission: training and s...   \n",
       "1  Microgravity induces pelvic bone loss through ...   \n",
       "2  Stem Cell Health and Tissue Regeneration in Mi...   \n",
       "3  Microgravity Reduces the Differentiation and R...   \n",
       "4  Microgravity validation of a novel system for ...   \n",
       "\n",
       "                                                Link       pmc  \\\n",
       "0  https://www.ncbi.nlm.nih.gov/pmc/articles/PMC4...   4136787   \n",
       "1  https://www.ncbi.nlm.nih.gov/pmc/articles/PMC3...   3630201   \n",
       "2  https://www.ncbi.nlm.nih.gov/pmc/articles/PMC1...  11988870   \n",
       "3  https://www.ncbi.nlm.nih.gov/pmc/articles/PMC7...   7998608   \n",
       "4  https://www.ncbi.nlm.nih.gov/pmc/articles/PMC5...   5587110   \n",
       "\n",
       "       article_type language                                      journal  \\\n",
       "0  research article       en                                     PLoS ONE   \n",
       "1  research article       en                                     PLoS ONE   \n",
       "2    review article       en  International Journal of Molecular Sciences   \n",
       "3  research article       en                                        Cells   \n",
       "4  research article       en                                     PLoS ONE   \n",
       "\n",
       "                                           publisher  publication_year  \n",
       "0                                               PLOS              2014  \n",
       "1                                               PLOS              2013  \n",
       "2  Multidisciplinary Digital Publishing Institute...              2025  \n",
       "3  Multidisciplinary Digital Publishing Institute...              2021  \n",
       "4                                               PLOS              2017  "
      ]
     },
     "execution_count": 6,
     "metadata": {},
     "output_type": "execute_result"
    }
   ],
   "source": [
    "df = pd.read_csv('../data/SB_publication_PMC_data.csv', sep='|')\n",
    "df.head()"
   ]
  },
  {
   "cell_type": "code",
   "execution_count": 7,
   "id": "c589d4b9",
   "metadata": {},
   "outputs": [],
   "source": [
    "df.rename(columns={\"pmc\":\"PMID\",\"article_type\":\"Article Type\",\"journal\":\"Journal\",\"publication_year\":\"Year\"}, inplace=True)"
   ]
  },
  {
   "cell_type": "code",
   "execution_count": 8,
   "id": "fd99edc9",
   "metadata": {},
   "outputs": [
    {
     "name": "stdout",
     "output_type": "stream",
     "text": [
      "<class 'pandas.core.frame.DataFrame'>\n",
      "RangeIndex: 607 entries, 0 to 606\n",
      "Data columns (total 8 columns):\n",
      " #   Column        Non-Null Count  Dtype \n",
      "---  ------        --------------  ----- \n",
      " 0   Title         607 non-null    object\n",
      " 1   Link          607 non-null    object\n",
      " 2   PMID          607 non-null    int64 \n",
      " 3   Article Type  607 non-null    object\n",
      " 4   language      607 non-null    object\n",
      " 5   Journal       607 non-null    object\n",
      " 6   publisher     510 non-null    object\n",
      " 7   Year          607 non-null    int64 \n",
      "dtypes: int64(2), object(6)\n",
      "memory usage: 38.1+ KB\n"
     ]
    }
   ],
   "source": [
    "df.info()"
   ]
  },
  {
   "cell_type": "code",
   "execution_count": 9,
   "id": "c291d9a9",
   "metadata": {},
   "outputs": [],
   "source": [
    "df['Link'] = df['Link'].astype(\"string\")"
   ]
  },
  {
   "cell_type": "code",
   "execution_count": 10,
   "id": "5a9298af",
   "metadata": {},
   "outputs": [
    {
     "name": "stdout",
     "output_type": "stream",
     "text": [
      "<class 'pandas.core.frame.DataFrame'>\n",
      "RangeIndex: 607 entries, 0 to 606\n",
      "Data columns (total 8 columns):\n",
      " #   Column        Non-Null Count  Dtype \n",
      "---  ------        --------------  ----- \n",
      " 0   Title         607 non-null    object\n",
      " 1   Link          607 non-null    string\n",
      " 2   PMID          607 non-null    int64 \n",
      " 3   Article Type  607 non-null    object\n",
      " 4   language      607 non-null    object\n",
      " 5   Journal       607 non-null    object\n",
      " 6   publisher     510 non-null    object\n",
      " 7   Year          607 non-null    int64 \n",
      "dtypes: int64(2), object(5), string(1)\n",
      "memory usage: 38.1+ KB\n"
     ]
    }
   ],
   "source": [
    "df.info()"
   ]
  },
  {
   "cell_type": "code",
   "execution_count": 9,
   "id": "ddef1baa",
   "metadata": {},
   "outputs": [
    {
     "data": {
      "text/html": [
       "<div>\n",
       "<style scoped>\n",
       "    .dataframe tbody tr th:only-of-type {\n",
       "        vertical-align: middle;\n",
       "    }\n",
       "\n",
       "    .dataframe tbody tr th {\n",
       "        vertical-align: top;\n",
       "    }\n",
       "\n",
       "    .dataframe thead th {\n",
       "        text-align: right;\n",
       "    }\n",
       "</style>\n",
       "<table border=\"1\" class=\"dataframe\">\n",
       "  <thead>\n",
       "    <tr style=\"text-align: right;\">\n",
       "      <th></th>\n",
       "      <th>Title</th>\n",
       "      <th>Link</th>\n",
       "      <th>pmc</th>\n",
       "      <th>article_type</th>\n",
       "      <th>language</th>\n",
       "      <th>journal</th>\n",
       "      <th>publisher</th>\n",
       "      <th>publication_year</th>\n",
       "    </tr>\n",
       "  </thead>\n",
       "  <tbody>\n",
       "    <tr>\n",
       "      <th>9</th>\n",
       "      <td>Effects of ex vivo ionizing radiation on colla...</td>\n",
       "      <td>https://www.ncbi.nlm.nih.gov/pmc/articles/PMC6...</td>\n",
       "      <td>6813909</td>\n",
       "      <td>research article</td>\n",
       "      <td>en</td>\n",
       "      <td>Bone</td>\n",
       "      <td>NaN</td>\n",
       "      <td>2019</td>\n",
       "    </tr>\n",
       "    <tr>\n",
       "      <th>23</th>\n",
       "      <td>Circulating miRNA spaceflight signature reveal...</td>\n",
       "      <td>https://www.ncbi.nlm.nih.gov/pmc/articles/PMC8...</td>\n",
       "      <td>8441986</td>\n",
       "      <td>research article</td>\n",
       "      <td>en</td>\n",
       "      <td>Cell reports</td>\n",
       "      <td>NaN</td>\n",
       "      <td>2020</td>\n",
       "    </tr>\n",
       "    <tr>\n",
       "      <th>33</th>\n",
       "      <td>Prolonged Exposure to Microgravity Reduces Car...</td>\n",
       "      <td>https://www.ncbi.nlm.nih.gov/pmc/articles/PMC7...</td>\n",
       "      <td>7787258</td>\n",
       "      <td>research article</td>\n",
       "      <td>en</td>\n",
       "      <td>Cell reports</td>\n",
       "      <td>NaN</td>\n",
       "      <td>2020</td>\n",
       "    </tr>\n",
       "    <tr>\n",
       "      <th>44</th>\n",
       "      <td>Three routes to modulate the pore size of the ...</td>\n",
       "      <td>https://www.ncbi.nlm.nih.gov/pmc/articles/PMC3...</td>\n",
       "      <td>3289768</td>\n",
       "      <td>research article</td>\n",
       "      <td>en</td>\n",
       "      <td>ACS Nano</td>\n",
       "      <td>NaN</td>\n",
       "      <td>2012</td>\n",
       "    </tr>\n",
       "    <tr>\n",
       "      <th>47</th>\n",
       "      <td>Chimeras reveal a single lipid-interface resid...</td>\n",
       "      <td>https://www.ncbi.nlm.nih.gov/pmc/articles/PMC3...</td>\n",
       "      <td>3593973</td>\n",
       "      <td>research article</td>\n",
       "      <td>en</td>\n",
       "      <td>Cell reports</td>\n",
       "      <td>NaN</td>\n",
       "      <td>2013</td>\n",
       "    </tr>\n",
       "    <tr>\n",
       "      <th>...</th>\n",
       "      <td>...</td>\n",
       "      <td>...</td>\n",
       "      <td>...</td>\n",
       "      <td>...</td>\n",
       "      <td>...</td>\n",
       "      <td>...</td>\n",
       "      <td>...</td>\n",
       "      <td>...</td>\n",
       "    </tr>\n",
       "    <tr>\n",
       "      <th>576</th>\n",
       "      <td>Overexpression of CupB5 activates alginate ove...</td>\n",
       "      <td>https://www.ncbi.nlm.nih.gov/pmc/articles/PMC4...</td>\n",
       "      <td>4116675</td>\n",
       "      <td>research article</td>\n",
       "      <td>en</td>\n",
       "      <td>Molecular microbiology</td>\n",
       "      <td>NaN</td>\n",
       "      <td>2014</td>\n",
       "    </tr>\n",
       "    <tr>\n",
       "      <th>579</th>\n",
       "      <td>In situ resource utilisation: The potential fo...</td>\n",
       "      <td>https://www.ncbi.nlm.nih.gov/pmc/articles/PMC8...</td>\n",
       "      <td>8739323</td>\n",
       "      <td>review article</td>\n",
       "      <td>en</td>\n",
       "      <td>Extremophiles</td>\n",
       "      <td>NaN</td>\n",
       "      <td>2022</td>\n",
       "    </tr>\n",
       "    <tr>\n",
       "      <th>580</th>\n",
       "      <td>The smallest space miners: Principles of space...</td>\n",
       "      <td>https://www.ncbi.nlm.nih.gov/pmc/articles/PMC8...</td>\n",
       "      <td>8739323</td>\n",
       "      <td>review article</td>\n",
       "      <td>en</td>\n",
       "      <td>Extremophiles</td>\n",
       "      <td>NaN</td>\n",
       "      <td>2022</td>\n",
       "    </tr>\n",
       "    <tr>\n",
       "      <th>587</th>\n",
       "      <td>Metagenomic interrogation of urban Superfund s...</td>\n",
       "      <td>https://www.ncbi.nlm.nih.gov/pmc/articles/PMC1...</td>\n",
       "      <td>11999716</td>\n",
       "      <td>research article</td>\n",
       "      <td>en</td>\n",
       "      <td>Journal of Applied Microbiology</td>\n",
       "      <td>NaN</td>\n",
       "      <td>2025</td>\n",
       "    </tr>\n",
       "    <tr>\n",
       "      <th>588</th>\n",
       "      <td>In situ monitoring of barrier function on-chip...</td>\n",
       "      <td>https://www.ncbi.nlm.nih.gov/pmc/articles/PMC1...</td>\n",
       "      <td>11969330</td>\n",
       "      <td>research article</td>\n",
       "      <td>en</td>\n",
       "      <td>Lab on a Chip</td>\n",
       "      <td>NaN</td>\n",
       "      <td>2025</td>\n",
       "    </tr>\n",
       "  </tbody>\n",
       "</table>\n",
       "<p>97 rows × 8 columns</p>\n",
       "</div>"
      ],
      "text/plain": [
       "                                                 Title  \\\n",
       "9    Effects of ex vivo ionizing radiation on colla...   \n",
       "23   Circulating miRNA spaceflight signature reveal...   \n",
       "33   Prolonged Exposure to Microgravity Reduces Car...   \n",
       "44   Three routes to modulate the pore size of the ...   \n",
       "47   Chimeras reveal a single lipid-interface resid...   \n",
       "..                                                 ...   \n",
       "576  Overexpression of CupB5 activates alginate ove...   \n",
       "579  In situ resource utilisation: The potential fo...   \n",
       "580  The smallest space miners: Principles of space...   \n",
       "587  Metagenomic interrogation of urban Superfund s...   \n",
       "588  In situ monitoring of barrier function on-chip...   \n",
       "\n",
       "                                                  Link       pmc  \\\n",
       "9    https://www.ncbi.nlm.nih.gov/pmc/articles/PMC6...   6813909   \n",
       "23   https://www.ncbi.nlm.nih.gov/pmc/articles/PMC8...   8441986   \n",
       "33   https://www.ncbi.nlm.nih.gov/pmc/articles/PMC7...   7787258   \n",
       "44   https://www.ncbi.nlm.nih.gov/pmc/articles/PMC3...   3289768   \n",
       "47   https://www.ncbi.nlm.nih.gov/pmc/articles/PMC3...   3593973   \n",
       "..                                                 ...       ...   \n",
       "576  https://www.ncbi.nlm.nih.gov/pmc/articles/PMC4...   4116675   \n",
       "579  https://www.ncbi.nlm.nih.gov/pmc/articles/PMC8...   8739323   \n",
       "580  https://www.ncbi.nlm.nih.gov/pmc/articles/PMC8...   8739323   \n",
       "587  https://www.ncbi.nlm.nih.gov/pmc/articles/PMC1...  11999716   \n",
       "588  https://www.ncbi.nlm.nih.gov/pmc/articles/PMC1...  11969330   \n",
       "\n",
       "         article_type language                          journal publisher  \\\n",
       "9    research article       en                             Bone       NaN   \n",
       "23   research article       en                     Cell reports       NaN   \n",
       "33   research article       en                     Cell reports       NaN   \n",
       "44   research article       en                         ACS Nano       NaN   \n",
       "47   research article       en                     Cell reports       NaN   \n",
       "..                ...      ...                              ...       ...   \n",
       "576  research article       en           Molecular microbiology       NaN   \n",
       "579    review article       en                    Extremophiles       NaN   \n",
       "580    review article       en                    Extremophiles       NaN   \n",
       "587  research article       en  Journal of Applied Microbiology       NaN   \n",
       "588  research article       en                    Lab on a Chip       NaN   \n",
       "\n",
       "     publication_year  \n",
       "9                2019  \n",
       "23               2020  \n",
       "33               2020  \n",
       "44               2012  \n",
       "47               2013  \n",
       "..                ...  \n",
       "576              2014  \n",
       "579              2022  \n",
       "580              2022  \n",
       "587              2025  \n",
       "588              2025  \n",
       "\n",
       "[97 rows x 8 columns]"
      ]
     },
     "execution_count": 9,
     "metadata": {},
     "output_type": "execute_result"
    }
   ],
   "source": [
    "df[df['publisher'].isna()]"
   ]
  },
  {
   "cell_type": "code",
   "execution_count": 10,
   "id": "833aead9",
   "metadata": {},
   "outputs": [
    {
     "data": {
      "text/plain": [
       "article_type\n",
       "research article      512\n",
       "review article         44\n",
       "brief report           27\n",
       "correction             12\n",
       "article commentary      3\n",
       "other                   3\n",
       "editorial               2\n",
       "letter                  1\n",
       "reply                   1\n",
       "methods article         1\n",
       "discussion              1\n",
       "Name: count, dtype: int64"
      ]
     },
     "execution_count": 10,
     "metadata": {},
     "output_type": "execute_result"
    }
   ],
   "source": [
    "df['article_type'].value_counts()"
   ]
  },
  {
   "cell_type": "code",
   "execution_count": 26,
   "id": "70c4da9d",
   "metadata": {},
   "outputs": [
    {
     "data": {
      "application/vnd.plotly.v1+json": {
       "config": {
        "plotlyServerURL": "https://plot.ly"
       },
       "data": [
        {
         "domain": {
          "x": [
           0,
           1
          ],
          "y": [
           0,
           1
          ]
         },
         "hovertemplate": "article_type=%{label}<extra></extra>",
         "labels": [
          "research article",
          "research article",
          "review article",
          "research article",
          "research article",
          "research article",
          "research article",
          "brief report",
          "research article",
          "research article",
          "research article",
          "research article",
          "research article",
          "research article",
          "research article",
          "research article",
          "research article",
          "research article",
          "research article",
          "correction",
          "research article",
          "research article",
          "research article",
          "research article",
          "research article",
          "review article",
          "research article",
          "research article",
          "review article",
          "research article",
          "research article",
          "review article",
          "research article",
          "research article",
          "review article",
          "research article",
          "letter",
          "research article",
          "research article",
          "research article",
          "research article",
          "research article",
          "research article",
          "research article",
          "research article",
          "research article",
          "review article",
          "research article",
          "correction",
          "reply",
          "research article",
          "correction",
          "research article",
          "research article",
          "research article",
          "research article",
          "research article",
          "research article",
          "research article",
          "research article",
          "research article",
          "research article",
          "research article",
          "research article",
          "research article",
          "research article",
          "research article",
          "editorial",
          "research article",
          "research article",
          "review article",
          "research article",
          "research article",
          "research article",
          "research article",
          "research article",
          "research article",
          "correction",
          "research article",
          "brief report",
          "research article",
          "research article",
          "research article",
          "research article",
          "research article",
          "research article",
          "research article",
          "research article",
          "research article",
          "research article",
          "research article",
          "brief report",
          "research article",
          "research article",
          "research article",
          "research article",
          "research article",
          "research article",
          "research article",
          "research article",
          "research article",
          "research article",
          "research article",
          "research article",
          "research article",
          "research article",
          "review article",
          "research article",
          "research article",
          "research article",
          "brief report",
          "research article",
          "review article",
          "article commentary",
          "research article",
          "research article",
          "research article",
          "research article",
          "research article",
          "research article",
          "research article",
          "research article",
          "research article",
          "research article",
          "research article",
          "research article",
          "research article",
          "research article",
          "research article",
          "research article",
          "research article",
          "research article",
          "research article",
          "research article",
          "research article",
          "research article",
          "correction",
          "research article",
          "research article",
          "research article",
          "research article",
          "review article",
          "research article",
          "research article",
          "research article",
          "other",
          "research article",
          "other",
          "research article",
          "research article",
          "research article",
          "research article",
          "research article",
          "research article",
          "review article",
          "research article",
          "research article",
          "research article",
          "research article",
          "research article",
          "research article",
          "research article",
          "correction",
          "research article",
          "research article",
          "research article",
          "research article",
          "review article",
          "article commentary",
          "research article",
          "research article",
          "research article",
          "research article",
          "research article",
          "research article",
          "research article",
          "research article",
          "research article",
          "research article",
          "methods article",
          "research article",
          "review article",
          "brief report",
          "research article",
          "research article",
          "research article",
          "research article",
          "research article",
          "research article",
          "review article",
          "research article",
          "research article",
          "research article",
          "research article",
          "research article",
          "research article",
          "research article",
          "research article",
          "research article",
          "research article",
          "research article",
          "research article",
          "research article",
          "research article",
          "research article",
          "research article",
          "research article",
          "research article",
          "research article",
          "research article",
          "research article",
          "research article",
          "research article",
          "research article",
          "research article",
          "research article",
          "research article",
          "research article",
          "research article",
          "research article",
          "research article",
          "research article",
          "review article",
          "research article",
          "research article",
          "research article",
          "research article",
          "research article",
          "research article",
          "research article",
          "research article",
          "research article",
          "review article",
          "research article",
          "research article",
          "research article",
          "research article",
          "research article",
          "research article",
          "research article",
          "research article",
          "research article",
          "brief report",
          "research article",
          "research article",
          "research article",
          "research article",
          "research article",
          "research article",
          "research article",
          "research article",
          "research article",
          "research article",
          "research article",
          "research article",
          "research article",
          "research article",
          "review article",
          "research article",
          "review article",
          "research article",
          "research article",
          "research article",
          "review article",
          "research article",
          "research article",
          "review article",
          "research article",
          "research article",
          "research article",
          "research article",
          "research article",
          "research article",
          "research article",
          "research article",
          "research article",
          "research article",
          "research article",
          "research article",
          "research article",
          "discussion",
          "research article",
          "research article",
          "research article",
          "research article",
          "research article",
          "research article",
          "research article",
          "research article",
          "research article",
          "research article",
          "research article",
          "research article",
          "review article",
          "review article",
          "research article",
          "research article",
          "research article",
          "research article",
          "research article",
          "research article",
          "research article",
          "research article",
          "research article",
          "research article",
          "research article",
          "research article",
          "review article",
          "research article",
          "research article",
          "research article",
          "review article",
          "correction",
          "research article",
          "research article",
          "research article",
          "research article",
          "research article",
          "research article",
          "research article",
          "research article",
          "research article",
          "research article",
          "research article",
          "research article",
          "research article",
          "research article",
          "research article",
          "research article",
          "research article",
          "research article",
          "research article",
          "research article",
          "research article",
          "research article",
          "research article",
          "research article",
          "research article",
          "review article",
          "research article",
          "research article",
          "brief report",
          "research article",
          "research article",
          "research article",
          "research article",
          "research article",
          "research article",
          "other",
          "research article",
          "research article",
          "research article",
          "research article",
          "research article",
          "research article",
          "research article",
          "research article",
          "research article",
          "research article",
          "research article",
          "research article",
          "research article",
          "research article",
          "review article",
          "research article",
          "research article",
          "research article",
          "research article",
          "research article",
          "review article",
          "research article",
          "research article",
          "research article",
          "research article",
          "research article",
          "research article",
          "research article",
          "research article",
          "research article",
          "research article",
          "research article",
          "research article",
          "research article",
          "research article",
          "research article",
          "research article",
          "research article",
          "research article",
          "research article",
          "research article",
          "research article",
          "research article",
          "correction",
          "research article",
          "research article",
          "research article",
          "research article",
          "review article",
          "research article",
          "research article",
          "research article",
          "research article",
          "research article",
          "research article",
          "research article",
          "research article",
          "research article",
          "research article",
          "research article",
          "review article",
          "review article",
          "research article",
          "research article",
          "research article",
          "research article",
          "research article",
          "research article",
          "research article",
          "research article",
          "research article",
          "research article",
          "research article",
          "research article",
          "research article",
          "research article",
          "research article",
          "research article",
          "research article",
          "research article",
          "research article",
          "research article",
          "research article",
          "review article",
          "research article",
          "correction",
          "research article",
          "research article",
          "research article",
          "review article",
          "research article",
          "research article",
          "research article",
          "research article",
          "research article",
          "research article",
          "research article",
          "research article",
          "research article",
          "review article",
          "research article",
          "research article",
          "brief report",
          "research article",
          "research article",
          "research article",
          "research article",
          "brief report",
          "research article",
          "research article",
          "research article",
          "research article",
          "research article",
          "research article",
          "research article",
          "research article",
          "research article",
          "research article",
          "research article",
          "research article",
          "research article",
          "research article",
          "research article",
          "research article",
          "research article",
          "research article",
          "research article",
          "research article",
          "research article",
          "research article",
          "research article",
          "research article",
          "research article",
          "research article",
          "research article",
          "research article",
          "review article",
          "review article",
          "research article",
          "research article",
          "research article",
          "research article",
          "research article",
          "research article",
          "research article",
          "research article",
          "research article",
          "research article",
          "research article",
          "research article",
          "research article",
          "research article",
          "research article",
          "research article",
          "research article",
          "research article",
          "research article",
          "research article",
          "research article",
          "brief report",
          "research article",
          "brief report",
          "brief report",
          "research article",
          "correction",
          "research article",
          "brief report",
          "brief report",
          "research article",
          "brief report",
          "brief report",
          "research article",
          "brief report",
          "research article",
          "research article",
          "correction",
          "research article",
          "research article",
          "research article",
          "research article",
          "research article",
          "research article",
          "brief report",
          "brief report",
          "brief report",
          "brief report",
          "brief report",
          "brief report",
          "brief report",
          "research article",
          "research article",
          "brief report",
          "review article",
          "research article",
          "brief report",
          "research article",
          "research article",
          "research article",
          "research article",
          "research article",
          "research article",
          "research article",
          "research article",
          "research article",
          "research article",
          "research article",
          "research article",
          "research article",
          "research article",
          "research article",
          "review article",
          "research article",
          "research article",
          "research article",
          "research article",
          "research article",
          "research article",
          "review article",
          "research article",
          "research article",
          "research article",
          "research article",
          "review article",
          "review article",
          "research article",
          "research article",
          "brief report",
          "research article",
          "research article",
          "review article",
          "review article",
          "review article",
          "research article",
          "research article",
          "research article",
          "research article",
          "research article",
          "editorial",
          "research article",
          "research article",
          "research article",
          "research article",
          "research article",
          "research article",
          "research article",
          "research article",
          "research article",
          "research article",
          "research article",
          "correction",
          "research article",
          "article commentary",
          "research article",
          "research article",
          "review article",
          "research article",
          "research article",
          "research article"
         ],
         "legendgroup": "",
         "name": "",
         "showlegend": true,
         "type": "pie"
        }
       ],
       "layout": {
        "legend": {
         "tracegroupgap": 0
        },
        "template": {
         "data": {
          "bar": [
           {
            "error_x": {
             "color": "#2a3f5f"
            },
            "error_y": {
             "color": "#2a3f5f"
            },
            "marker": {
             "line": {
              "color": "#E5ECF6",
              "width": 0.5
             },
             "pattern": {
              "fillmode": "overlay",
              "size": 10,
              "solidity": 0.2
             }
            },
            "type": "bar"
           }
          ],
          "barpolar": [
           {
            "marker": {
             "line": {
              "color": "#E5ECF6",
              "width": 0.5
             },
             "pattern": {
              "fillmode": "overlay",
              "size": 10,
              "solidity": 0.2
             }
            },
            "type": "barpolar"
           }
          ],
          "carpet": [
           {
            "aaxis": {
             "endlinecolor": "#2a3f5f",
             "gridcolor": "white",
             "linecolor": "white",
             "minorgridcolor": "white",
             "startlinecolor": "#2a3f5f"
            },
            "baxis": {
             "endlinecolor": "#2a3f5f",
             "gridcolor": "white",
             "linecolor": "white",
             "minorgridcolor": "white",
             "startlinecolor": "#2a3f5f"
            },
            "type": "carpet"
           }
          ],
          "choropleth": [
           {
            "colorbar": {
             "outlinewidth": 0,
             "ticks": ""
            },
            "type": "choropleth"
           }
          ],
          "contour": [
           {
            "colorbar": {
             "outlinewidth": 0,
             "ticks": ""
            },
            "colorscale": [
             [
              0,
              "#0d0887"
             ],
             [
              0.1111111111111111,
              "#46039f"
             ],
             [
              0.2222222222222222,
              "#7201a8"
             ],
             [
              0.3333333333333333,
              "#9c179e"
             ],
             [
              0.4444444444444444,
              "#bd3786"
             ],
             [
              0.5555555555555556,
              "#d8576b"
             ],
             [
              0.6666666666666666,
              "#ed7953"
             ],
             [
              0.7777777777777778,
              "#fb9f3a"
             ],
             [
              0.8888888888888888,
              "#fdca26"
             ],
             [
              1,
              "#f0f921"
             ]
            ],
            "type": "contour"
           }
          ],
          "contourcarpet": [
           {
            "colorbar": {
             "outlinewidth": 0,
             "ticks": ""
            },
            "type": "contourcarpet"
           }
          ],
          "heatmap": [
           {
            "colorbar": {
             "outlinewidth": 0,
             "ticks": ""
            },
            "colorscale": [
             [
              0,
              "#0d0887"
             ],
             [
              0.1111111111111111,
              "#46039f"
             ],
             [
              0.2222222222222222,
              "#7201a8"
             ],
             [
              0.3333333333333333,
              "#9c179e"
             ],
             [
              0.4444444444444444,
              "#bd3786"
             ],
             [
              0.5555555555555556,
              "#d8576b"
             ],
             [
              0.6666666666666666,
              "#ed7953"
             ],
             [
              0.7777777777777778,
              "#fb9f3a"
             ],
             [
              0.8888888888888888,
              "#fdca26"
             ],
             [
              1,
              "#f0f921"
             ]
            ],
            "type": "heatmap"
           }
          ],
          "histogram": [
           {
            "marker": {
             "pattern": {
              "fillmode": "overlay",
              "size": 10,
              "solidity": 0.2
             }
            },
            "type": "histogram"
           }
          ],
          "histogram2d": [
           {
            "colorbar": {
             "outlinewidth": 0,
             "ticks": ""
            },
            "colorscale": [
             [
              0,
              "#0d0887"
             ],
             [
              0.1111111111111111,
              "#46039f"
             ],
             [
              0.2222222222222222,
              "#7201a8"
             ],
             [
              0.3333333333333333,
              "#9c179e"
             ],
             [
              0.4444444444444444,
              "#bd3786"
             ],
             [
              0.5555555555555556,
              "#d8576b"
             ],
             [
              0.6666666666666666,
              "#ed7953"
             ],
             [
              0.7777777777777778,
              "#fb9f3a"
             ],
             [
              0.8888888888888888,
              "#fdca26"
             ],
             [
              1,
              "#f0f921"
             ]
            ],
            "type": "histogram2d"
           }
          ],
          "histogram2dcontour": [
           {
            "colorbar": {
             "outlinewidth": 0,
             "ticks": ""
            },
            "colorscale": [
             [
              0,
              "#0d0887"
             ],
             [
              0.1111111111111111,
              "#46039f"
             ],
             [
              0.2222222222222222,
              "#7201a8"
             ],
             [
              0.3333333333333333,
              "#9c179e"
             ],
             [
              0.4444444444444444,
              "#bd3786"
             ],
             [
              0.5555555555555556,
              "#d8576b"
             ],
             [
              0.6666666666666666,
              "#ed7953"
             ],
             [
              0.7777777777777778,
              "#fb9f3a"
             ],
             [
              0.8888888888888888,
              "#fdca26"
             ],
             [
              1,
              "#f0f921"
             ]
            ],
            "type": "histogram2dcontour"
           }
          ],
          "mesh3d": [
           {
            "colorbar": {
             "outlinewidth": 0,
             "ticks": ""
            },
            "type": "mesh3d"
           }
          ],
          "parcoords": [
           {
            "line": {
             "colorbar": {
              "outlinewidth": 0,
              "ticks": ""
             }
            },
            "type": "parcoords"
           }
          ],
          "pie": [
           {
            "automargin": true,
            "type": "pie"
           }
          ],
          "scatter": [
           {
            "fillpattern": {
             "fillmode": "overlay",
             "size": 10,
             "solidity": 0.2
            },
            "type": "scatter"
           }
          ],
          "scatter3d": [
           {
            "line": {
             "colorbar": {
              "outlinewidth": 0,
              "ticks": ""
             }
            },
            "marker": {
             "colorbar": {
              "outlinewidth": 0,
              "ticks": ""
             }
            },
            "type": "scatter3d"
           }
          ],
          "scattercarpet": [
           {
            "marker": {
             "colorbar": {
              "outlinewidth": 0,
              "ticks": ""
             }
            },
            "type": "scattercarpet"
           }
          ],
          "scattergeo": [
           {
            "marker": {
             "colorbar": {
              "outlinewidth": 0,
              "ticks": ""
             }
            },
            "type": "scattergeo"
           }
          ],
          "scattergl": [
           {
            "marker": {
             "colorbar": {
              "outlinewidth": 0,
              "ticks": ""
             }
            },
            "type": "scattergl"
           }
          ],
          "scattermap": [
           {
            "marker": {
             "colorbar": {
              "outlinewidth": 0,
              "ticks": ""
             }
            },
            "type": "scattermap"
           }
          ],
          "scattermapbox": [
           {
            "marker": {
             "colorbar": {
              "outlinewidth": 0,
              "ticks": ""
             }
            },
            "type": "scattermapbox"
           }
          ],
          "scatterpolar": [
           {
            "marker": {
             "colorbar": {
              "outlinewidth": 0,
              "ticks": ""
             }
            },
            "type": "scatterpolar"
           }
          ],
          "scatterpolargl": [
           {
            "marker": {
             "colorbar": {
              "outlinewidth": 0,
              "ticks": ""
             }
            },
            "type": "scatterpolargl"
           }
          ],
          "scatterternary": [
           {
            "marker": {
             "colorbar": {
              "outlinewidth": 0,
              "ticks": ""
             }
            },
            "type": "scatterternary"
           }
          ],
          "surface": [
           {
            "colorbar": {
             "outlinewidth": 0,
             "ticks": ""
            },
            "colorscale": [
             [
              0,
              "#0d0887"
             ],
             [
              0.1111111111111111,
              "#46039f"
             ],
             [
              0.2222222222222222,
              "#7201a8"
             ],
             [
              0.3333333333333333,
              "#9c179e"
             ],
             [
              0.4444444444444444,
              "#bd3786"
             ],
             [
              0.5555555555555556,
              "#d8576b"
             ],
             [
              0.6666666666666666,
              "#ed7953"
             ],
             [
              0.7777777777777778,
              "#fb9f3a"
             ],
             [
              0.8888888888888888,
              "#fdca26"
             ],
             [
              1,
              "#f0f921"
             ]
            ],
            "type": "surface"
           }
          ],
          "table": [
           {
            "cells": {
             "fill": {
              "color": "#EBF0F8"
             },
             "line": {
              "color": "white"
             }
            },
            "header": {
             "fill": {
              "color": "#C8D4E3"
             },
             "line": {
              "color": "white"
             }
            },
            "type": "table"
           }
          ]
         },
         "layout": {
          "annotationdefaults": {
           "arrowcolor": "#2a3f5f",
           "arrowhead": 0,
           "arrowwidth": 1
          },
          "autotypenumbers": "strict",
          "coloraxis": {
           "colorbar": {
            "outlinewidth": 0,
            "ticks": ""
           }
          },
          "colorscale": {
           "diverging": [
            [
             0,
             "#8e0152"
            ],
            [
             0.1,
             "#c51b7d"
            ],
            [
             0.2,
             "#de77ae"
            ],
            [
             0.3,
             "#f1b6da"
            ],
            [
             0.4,
             "#fde0ef"
            ],
            [
             0.5,
             "#f7f7f7"
            ],
            [
             0.6,
             "#e6f5d0"
            ],
            [
             0.7,
             "#b8e186"
            ],
            [
             0.8,
             "#7fbc41"
            ],
            [
             0.9,
             "#4d9221"
            ],
            [
             1,
             "#276419"
            ]
           ],
           "sequential": [
            [
             0,
             "#0d0887"
            ],
            [
             0.1111111111111111,
             "#46039f"
            ],
            [
             0.2222222222222222,
             "#7201a8"
            ],
            [
             0.3333333333333333,
             "#9c179e"
            ],
            [
             0.4444444444444444,
             "#bd3786"
            ],
            [
             0.5555555555555556,
             "#d8576b"
            ],
            [
             0.6666666666666666,
             "#ed7953"
            ],
            [
             0.7777777777777778,
             "#fb9f3a"
            ],
            [
             0.8888888888888888,
             "#fdca26"
            ],
            [
             1,
             "#f0f921"
            ]
           ],
           "sequentialminus": [
            [
             0,
             "#0d0887"
            ],
            [
             0.1111111111111111,
             "#46039f"
            ],
            [
             0.2222222222222222,
             "#7201a8"
            ],
            [
             0.3333333333333333,
             "#9c179e"
            ],
            [
             0.4444444444444444,
             "#bd3786"
            ],
            [
             0.5555555555555556,
             "#d8576b"
            ],
            [
             0.6666666666666666,
             "#ed7953"
            ],
            [
             0.7777777777777778,
             "#fb9f3a"
            ],
            [
             0.8888888888888888,
             "#fdca26"
            ],
            [
             1,
             "#f0f921"
            ]
           ]
          },
          "colorway": [
           "#636efa",
           "#EF553B",
           "#00cc96",
           "#ab63fa",
           "#FFA15A",
           "#19d3f3",
           "#FF6692",
           "#B6E880",
           "#FF97FF",
           "#FECB52"
          ],
          "font": {
           "color": "#2a3f5f"
          },
          "geo": {
           "bgcolor": "white",
           "lakecolor": "white",
           "landcolor": "#E5ECF6",
           "showlakes": true,
           "showland": true,
           "subunitcolor": "white"
          },
          "hoverlabel": {
           "align": "left"
          },
          "hovermode": "closest",
          "mapbox": {
           "style": "light"
          },
          "paper_bgcolor": "white",
          "plot_bgcolor": "#E5ECF6",
          "polar": {
           "angularaxis": {
            "gridcolor": "white",
            "linecolor": "white",
            "ticks": ""
           },
           "bgcolor": "#E5ECF6",
           "radialaxis": {
            "gridcolor": "white",
            "linecolor": "white",
            "ticks": ""
           }
          },
          "scene": {
           "xaxis": {
            "backgroundcolor": "#E5ECF6",
            "gridcolor": "white",
            "gridwidth": 2,
            "linecolor": "white",
            "showbackground": true,
            "ticks": "",
            "zerolinecolor": "white"
           },
           "yaxis": {
            "backgroundcolor": "#E5ECF6",
            "gridcolor": "white",
            "gridwidth": 2,
            "linecolor": "white",
            "showbackground": true,
            "ticks": "",
            "zerolinecolor": "white"
           },
           "zaxis": {
            "backgroundcolor": "#E5ECF6",
            "gridcolor": "white",
            "gridwidth": 2,
            "linecolor": "white",
            "showbackground": true,
            "ticks": "",
            "zerolinecolor": "white"
           }
          },
          "shapedefaults": {
           "line": {
            "color": "#2a3f5f"
           }
          },
          "ternary": {
           "aaxis": {
            "gridcolor": "white",
            "linecolor": "white",
            "ticks": ""
           },
           "baxis": {
            "gridcolor": "white",
            "linecolor": "white",
            "ticks": ""
           },
           "bgcolor": "#E5ECF6",
           "caxis": {
            "gridcolor": "white",
            "linecolor": "white",
            "ticks": ""
           }
          },
          "title": {
           "x": 0.05
          },
          "xaxis": {
           "automargin": true,
           "gridcolor": "white",
           "linecolor": "white",
           "ticks": "",
           "title": {
            "standoff": 15
           },
           "zerolinecolor": "white",
           "zerolinewidth": 2
          },
          "yaxis": {
           "automargin": true,
           "gridcolor": "white",
           "linecolor": "white",
           "ticks": "",
           "title": {
            "standoff": 15
           },
           "zerolinecolor": "white",
           "zerolinewidth": 2
          }
         }
        },
        "title": {
         "text": "Type of articles"
        }
       }
      }
     },
     "metadata": {},
     "output_type": "display_data"
    }
   ],
   "source": [
    "fig = px.pie(\n",
    "    df,\n",
    "    names='article_type',\n",
    "    title='Type of articles'\n",
    ")\n",
    "fig.show()"
   ]
  },
  {
   "cell_type": "code",
   "execution_count": 12,
   "id": "d60ceb72",
   "metadata": {},
   "outputs": [
    {
     "data": {
      "text/plain": [
       "publication_year\n",
       "2024    78\n",
       "2021    57\n",
       "2022    55\n",
       "2020    53\n",
       "2023    52\n",
       "2018    44\n",
       "2017    41\n",
       "2019    38\n",
       "2015    35\n",
       "2016    32\n",
       "2013    30\n",
       "2025    29\n",
       "2014    23\n",
       "2011    15\n",
       "2012    14\n",
       "2010    11\n",
       "Name: count, dtype: int64"
      ]
     },
     "execution_count": 12,
     "metadata": {},
     "output_type": "execute_result"
    }
   ],
   "source": [
    "df['publication_year'].value_counts()"
   ]
  },
  {
   "cell_type": "code",
   "execution_count": 22,
   "id": "c17880e4",
   "metadata": {},
   "outputs": [
    {
     "data": {
      "application/vnd.plotly.v1+json": {
       "config": {
        "plotlyServerURL": "https://plot.ly"
       },
       "data": [
        {
         "hovertemplate": "publication_year=%{x}<br>num_articles=%{y}<extra></extra>",
         "legendgroup": "",
         "line": {
          "color": "#636efa",
          "dash": "solid"
         },
         "marker": {
          "symbol": "circle"
         },
         "mode": "lines",
         "name": "",
         "orientation": "v",
         "showlegend": false,
         "type": "scatter",
         "x": {
          "bdata": "2gfbB9wH3QfeB98H4AfhB+IH4wfkB+UH5gfnB+gH6Qc=",
          "dtype": "i2"
         },
         "xaxis": "x",
         "y": {
          "bdata": "Cw8OHhcjICksJjU5NzROHQ==",
          "dtype": "i1"
         },
         "yaxis": "y"
        }
       ],
       "layout": {
        "legend": {
         "tracegroupgap": 0
        },
        "template": {
         "data": {
          "bar": [
           {
            "error_x": {
             "color": "#2a3f5f"
            },
            "error_y": {
             "color": "#2a3f5f"
            },
            "marker": {
             "line": {
              "color": "#E5ECF6",
              "width": 0.5
             },
             "pattern": {
              "fillmode": "overlay",
              "size": 10,
              "solidity": 0.2
             }
            },
            "type": "bar"
           }
          ],
          "barpolar": [
           {
            "marker": {
             "line": {
              "color": "#E5ECF6",
              "width": 0.5
             },
             "pattern": {
              "fillmode": "overlay",
              "size": 10,
              "solidity": 0.2
             }
            },
            "type": "barpolar"
           }
          ],
          "carpet": [
           {
            "aaxis": {
             "endlinecolor": "#2a3f5f",
             "gridcolor": "white",
             "linecolor": "white",
             "minorgridcolor": "white",
             "startlinecolor": "#2a3f5f"
            },
            "baxis": {
             "endlinecolor": "#2a3f5f",
             "gridcolor": "white",
             "linecolor": "white",
             "minorgridcolor": "white",
             "startlinecolor": "#2a3f5f"
            },
            "type": "carpet"
           }
          ],
          "choropleth": [
           {
            "colorbar": {
             "outlinewidth": 0,
             "ticks": ""
            },
            "type": "choropleth"
           }
          ],
          "contour": [
           {
            "colorbar": {
             "outlinewidth": 0,
             "ticks": ""
            },
            "colorscale": [
             [
              0,
              "#0d0887"
             ],
             [
              0.1111111111111111,
              "#46039f"
             ],
             [
              0.2222222222222222,
              "#7201a8"
             ],
             [
              0.3333333333333333,
              "#9c179e"
             ],
             [
              0.4444444444444444,
              "#bd3786"
             ],
             [
              0.5555555555555556,
              "#d8576b"
             ],
             [
              0.6666666666666666,
              "#ed7953"
             ],
             [
              0.7777777777777778,
              "#fb9f3a"
             ],
             [
              0.8888888888888888,
              "#fdca26"
             ],
             [
              1,
              "#f0f921"
             ]
            ],
            "type": "contour"
           }
          ],
          "contourcarpet": [
           {
            "colorbar": {
             "outlinewidth": 0,
             "ticks": ""
            },
            "type": "contourcarpet"
           }
          ],
          "heatmap": [
           {
            "colorbar": {
             "outlinewidth": 0,
             "ticks": ""
            },
            "colorscale": [
             [
              0,
              "#0d0887"
             ],
             [
              0.1111111111111111,
              "#46039f"
             ],
             [
              0.2222222222222222,
              "#7201a8"
             ],
             [
              0.3333333333333333,
              "#9c179e"
             ],
             [
              0.4444444444444444,
              "#bd3786"
             ],
             [
              0.5555555555555556,
              "#d8576b"
             ],
             [
              0.6666666666666666,
              "#ed7953"
             ],
             [
              0.7777777777777778,
              "#fb9f3a"
             ],
             [
              0.8888888888888888,
              "#fdca26"
             ],
             [
              1,
              "#f0f921"
             ]
            ],
            "type": "heatmap"
           }
          ],
          "histogram": [
           {
            "marker": {
             "pattern": {
              "fillmode": "overlay",
              "size": 10,
              "solidity": 0.2
             }
            },
            "type": "histogram"
           }
          ],
          "histogram2d": [
           {
            "colorbar": {
             "outlinewidth": 0,
             "ticks": ""
            },
            "colorscale": [
             [
              0,
              "#0d0887"
             ],
             [
              0.1111111111111111,
              "#46039f"
             ],
             [
              0.2222222222222222,
              "#7201a8"
             ],
             [
              0.3333333333333333,
              "#9c179e"
             ],
             [
              0.4444444444444444,
              "#bd3786"
             ],
             [
              0.5555555555555556,
              "#d8576b"
             ],
             [
              0.6666666666666666,
              "#ed7953"
             ],
             [
              0.7777777777777778,
              "#fb9f3a"
             ],
             [
              0.8888888888888888,
              "#fdca26"
             ],
             [
              1,
              "#f0f921"
             ]
            ],
            "type": "histogram2d"
           }
          ],
          "histogram2dcontour": [
           {
            "colorbar": {
             "outlinewidth": 0,
             "ticks": ""
            },
            "colorscale": [
             [
              0,
              "#0d0887"
             ],
             [
              0.1111111111111111,
              "#46039f"
             ],
             [
              0.2222222222222222,
              "#7201a8"
             ],
             [
              0.3333333333333333,
              "#9c179e"
             ],
             [
              0.4444444444444444,
              "#bd3786"
             ],
             [
              0.5555555555555556,
              "#d8576b"
             ],
             [
              0.6666666666666666,
              "#ed7953"
             ],
             [
              0.7777777777777778,
              "#fb9f3a"
             ],
             [
              0.8888888888888888,
              "#fdca26"
             ],
             [
              1,
              "#f0f921"
             ]
            ],
            "type": "histogram2dcontour"
           }
          ],
          "mesh3d": [
           {
            "colorbar": {
             "outlinewidth": 0,
             "ticks": ""
            },
            "type": "mesh3d"
           }
          ],
          "parcoords": [
           {
            "line": {
             "colorbar": {
              "outlinewidth": 0,
              "ticks": ""
             }
            },
            "type": "parcoords"
           }
          ],
          "pie": [
           {
            "automargin": true,
            "type": "pie"
           }
          ],
          "scatter": [
           {
            "fillpattern": {
             "fillmode": "overlay",
             "size": 10,
             "solidity": 0.2
            },
            "type": "scatter"
           }
          ],
          "scatter3d": [
           {
            "line": {
             "colorbar": {
              "outlinewidth": 0,
              "ticks": ""
             }
            },
            "marker": {
             "colorbar": {
              "outlinewidth": 0,
              "ticks": ""
             }
            },
            "type": "scatter3d"
           }
          ],
          "scattercarpet": [
           {
            "marker": {
             "colorbar": {
              "outlinewidth": 0,
              "ticks": ""
             }
            },
            "type": "scattercarpet"
           }
          ],
          "scattergeo": [
           {
            "marker": {
             "colorbar": {
              "outlinewidth": 0,
              "ticks": ""
             }
            },
            "type": "scattergeo"
           }
          ],
          "scattergl": [
           {
            "marker": {
             "colorbar": {
              "outlinewidth": 0,
              "ticks": ""
             }
            },
            "type": "scattergl"
           }
          ],
          "scattermap": [
           {
            "marker": {
             "colorbar": {
              "outlinewidth": 0,
              "ticks": ""
             }
            },
            "type": "scattermap"
           }
          ],
          "scattermapbox": [
           {
            "marker": {
             "colorbar": {
              "outlinewidth": 0,
              "ticks": ""
             }
            },
            "type": "scattermapbox"
           }
          ],
          "scatterpolar": [
           {
            "marker": {
             "colorbar": {
              "outlinewidth": 0,
              "ticks": ""
             }
            },
            "type": "scatterpolar"
           }
          ],
          "scatterpolargl": [
           {
            "marker": {
             "colorbar": {
              "outlinewidth": 0,
              "ticks": ""
             }
            },
            "type": "scatterpolargl"
           }
          ],
          "scatterternary": [
           {
            "marker": {
             "colorbar": {
              "outlinewidth": 0,
              "ticks": ""
             }
            },
            "type": "scatterternary"
           }
          ],
          "surface": [
           {
            "colorbar": {
             "outlinewidth": 0,
             "ticks": ""
            },
            "colorscale": [
             [
              0,
              "#0d0887"
             ],
             [
              0.1111111111111111,
              "#46039f"
             ],
             [
              0.2222222222222222,
              "#7201a8"
             ],
             [
              0.3333333333333333,
              "#9c179e"
             ],
             [
              0.4444444444444444,
              "#bd3786"
             ],
             [
              0.5555555555555556,
              "#d8576b"
             ],
             [
              0.6666666666666666,
              "#ed7953"
             ],
             [
              0.7777777777777778,
              "#fb9f3a"
             ],
             [
              0.8888888888888888,
              "#fdca26"
             ],
             [
              1,
              "#f0f921"
             ]
            ],
            "type": "surface"
           }
          ],
          "table": [
           {
            "cells": {
             "fill": {
              "color": "#EBF0F8"
             },
             "line": {
              "color": "white"
             }
            },
            "header": {
             "fill": {
              "color": "#C8D4E3"
             },
             "line": {
              "color": "white"
             }
            },
            "type": "table"
           }
          ]
         },
         "layout": {
          "annotationdefaults": {
           "arrowcolor": "#2a3f5f",
           "arrowhead": 0,
           "arrowwidth": 1
          },
          "autotypenumbers": "strict",
          "coloraxis": {
           "colorbar": {
            "outlinewidth": 0,
            "ticks": ""
           }
          },
          "colorscale": {
           "diverging": [
            [
             0,
             "#8e0152"
            ],
            [
             0.1,
             "#c51b7d"
            ],
            [
             0.2,
             "#de77ae"
            ],
            [
             0.3,
             "#f1b6da"
            ],
            [
             0.4,
             "#fde0ef"
            ],
            [
             0.5,
             "#f7f7f7"
            ],
            [
             0.6,
             "#e6f5d0"
            ],
            [
             0.7,
             "#b8e186"
            ],
            [
             0.8,
             "#7fbc41"
            ],
            [
             0.9,
             "#4d9221"
            ],
            [
             1,
             "#276419"
            ]
           ],
           "sequential": [
            [
             0,
             "#0d0887"
            ],
            [
             0.1111111111111111,
             "#46039f"
            ],
            [
             0.2222222222222222,
             "#7201a8"
            ],
            [
             0.3333333333333333,
             "#9c179e"
            ],
            [
             0.4444444444444444,
             "#bd3786"
            ],
            [
             0.5555555555555556,
             "#d8576b"
            ],
            [
             0.6666666666666666,
             "#ed7953"
            ],
            [
             0.7777777777777778,
             "#fb9f3a"
            ],
            [
             0.8888888888888888,
             "#fdca26"
            ],
            [
             1,
             "#f0f921"
            ]
           ],
           "sequentialminus": [
            [
             0,
             "#0d0887"
            ],
            [
             0.1111111111111111,
             "#46039f"
            ],
            [
             0.2222222222222222,
             "#7201a8"
            ],
            [
             0.3333333333333333,
             "#9c179e"
            ],
            [
             0.4444444444444444,
             "#bd3786"
            ],
            [
             0.5555555555555556,
             "#d8576b"
            ],
            [
             0.6666666666666666,
             "#ed7953"
            ],
            [
             0.7777777777777778,
             "#fb9f3a"
            ],
            [
             0.8888888888888888,
             "#fdca26"
            ],
            [
             1,
             "#f0f921"
            ]
           ]
          },
          "colorway": [
           "#636efa",
           "#EF553B",
           "#00cc96",
           "#ab63fa",
           "#FFA15A",
           "#19d3f3",
           "#FF6692",
           "#B6E880",
           "#FF97FF",
           "#FECB52"
          ],
          "font": {
           "color": "#2a3f5f"
          },
          "geo": {
           "bgcolor": "white",
           "lakecolor": "white",
           "landcolor": "#E5ECF6",
           "showlakes": true,
           "showland": true,
           "subunitcolor": "white"
          },
          "hoverlabel": {
           "align": "left"
          },
          "hovermode": "closest",
          "mapbox": {
           "style": "light"
          },
          "paper_bgcolor": "white",
          "plot_bgcolor": "#E5ECF6",
          "polar": {
           "angularaxis": {
            "gridcolor": "white",
            "linecolor": "white",
            "ticks": ""
           },
           "bgcolor": "#E5ECF6",
           "radialaxis": {
            "gridcolor": "white",
            "linecolor": "white",
            "ticks": ""
           }
          },
          "scene": {
           "xaxis": {
            "backgroundcolor": "#E5ECF6",
            "gridcolor": "white",
            "gridwidth": 2,
            "linecolor": "white",
            "showbackground": true,
            "ticks": "",
            "zerolinecolor": "white"
           },
           "yaxis": {
            "backgroundcolor": "#E5ECF6",
            "gridcolor": "white",
            "gridwidth": 2,
            "linecolor": "white",
            "showbackground": true,
            "ticks": "",
            "zerolinecolor": "white"
           },
           "zaxis": {
            "backgroundcolor": "#E5ECF6",
            "gridcolor": "white",
            "gridwidth": 2,
            "linecolor": "white",
            "showbackground": true,
            "ticks": "",
            "zerolinecolor": "white"
           }
          },
          "shapedefaults": {
           "line": {
            "color": "#2a3f5f"
           }
          },
          "ternary": {
           "aaxis": {
            "gridcolor": "white",
            "linecolor": "white",
            "ticks": ""
           },
           "baxis": {
            "gridcolor": "white",
            "linecolor": "white",
            "ticks": ""
           },
           "bgcolor": "#E5ECF6",
           "caxis": {
            "gridcolor": "white",
            "linecolor": "white",
            "ticks": ""
           }
          },
          "title": {
           "x": 0.05
          },
          "xaxis": {
           "automargin": true,
           "gridcolor": "white",
           "linecolor": "white",
           "ticks": "",
           "title": {
            "standoff": 15
           },
           "zerolinecolor": "white",
           "zerolinewidth": 2
          },
          "yaxis": {
           "automargin": true,
           "gridcolor": "white",
           "linecolor": "white",
           "ticks": "",
           "title": {
            "standoff": 15
           },
           "zerolinecolor": "white",
           "zerolinewidth": 2
          }
         }
        },
        "title": {
         "text": "Articles per year"
        },
        "xaxis": {
         "anchor": "y",
         "domain": [
          0,
          1
         ],
         "dtick": 1,
         "tickmode": "linear",
         "title": {
          "text": "Year of publication"
         }
        },
        "yaxis": {
         "anchor": "x",
         "domain": [
          0,
          1
         ],
         "title": {
          "text": "Number of articles"
         }
        }
       }
      }
     },
     "metadata": {},
     "output_type": "display_data"
    }
   ],
   "source": [
    "df_count = df['publication_year'].value_counts().sort_index().reset_index()\n",
    "df_count.columns = ['publication_year', 'num_articles']\n",
    "\n",
    "fig = px.line(df_count, x='publication_year', y='num_articles', title='Articles per year')\n",
    "fig.update_xaxes(\n",
    "    tickmode='linear', \n",
    "    dtick=1,             \n",
    ")\n",
    "fig.update_layout(\n",
    "    xaxis_title='Year of publication',\n",
    "    yaxis_title='Number of articles'\n",
    ")\n",
    "fig.show()"
   ]
  },
  {
   "cell_type": "code",
   "execution_count": 13,
   "id": "1cf5f021",
   "metadata": {},
   "outputs": [
    {
     "data": {
      "text/plain": [
       "journal\n",
       "NPJ Microgravity                                                            47\n",
       "International Journal of Molecular Sciences                                 30\n",
       "Scientific Reports                                                          29\n",
       "PLoS ONE                                                                    26\n",
       "Frontiers in Plant Science                                                  25\n",
       "                                                                            ..\n",
       "Micromachines                                                                1\n",
       "Journal of Otolaryngology - Head & Neck Surgery                              1\n",
       "The spine journal : official journal of the North American Spine Society     1\n",
       "Spine                                                                        1\n",
       "Lab on a Chip                                                                1\n",
       "Name: count, Length: 205, dtype: int64"
      ]
     },
     "execution_count": 13,
     "metadata": {},
     "output_type": "execute_result"
    }
   ],
   "source": [
    "df['journal'].value_counts()"
   ]
  },
  {
   "cell_type": "code",
   "execution_count": 28,
   "id": "f7fe9ca4",
   "metadata": {},
   "outputs": [
    {
     "data": {
      "image/png": "[encoded data removed]",
      "text/plain": [
       "<Figure size 1000x500 with 1 Axes>"
      ]
     },
     "metadata": {},
     "output_type": "display_data"
    }
   ],
   "source": [
    "freq = df['journal'].value_counts().to_dict()\n",
    "\n",
    "wordcloud = WordCloud(\n",
    "    width=800,\n",
    "    height=400,\n",
    "    background_color='white',\n",
    "    colormap='plasma'\n",
    ").generate_from_frequencies(freq)\n",
    "\n",
    "plt.figure(figsize=(10, 5))\n",
    "plt.imshow(wordcloud, interpolation='bilinear')\n",
    "plt.axis('off')\n",
    "plt.show()"
   ]
  }
 ],
 "metadata": {
  "kernelspec": {
   "display_name": "nasa-space-biology-knowledge-engine",
   "language": "python",
   "name": "python3"
  },
  "language_info": {
   "codemirror_mode": {
    "name": "ipython",
    "version": 3
   },
   "file_extension": ".py",
   "mimetype": "text/x-python",
   "name": "python",
   "nbconvert_exporter": "python",
   "pygments_lexer": "ipython3",
   "version": "3.11.13"
  }
 },
 "nbformat": 4,
 "nbformat_minor": 5
}
