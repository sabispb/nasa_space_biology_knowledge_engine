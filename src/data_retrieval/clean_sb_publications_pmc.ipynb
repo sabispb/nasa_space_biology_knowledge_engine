{
 "cells": [
  {
   "cell_type": "code",
   "execution_count": null,
   "id": "08a96f7b",
   "metadata": {},
   "outputs": [],
   "source": [
    "cd ../.."
   ]
  },
  {
   "cell_type": "code",
   "execution_count": null,
   "id": "06853aa6",
   "metadata": {},
   "outputs": [],
   "source": [
    "import pandas as pd"
   ]
  },
  {
   "cell_type": "markdown",
   "id": "6b4929ba",
   "metadata": {},
   "source": [
    "# Settings"
   ]
  },
  {
   "cell_type": "code",
   "execution_count": null,
   "id": "9853322a",
   "metadata": {},
   "outputs": [],
   "source": [
    "SB_PUBLICATIONS_PMC_ORIGINAL = \"data/SB_publication_PMC.csv\"\n",
    "SB_PUBLICATIONS_PMC_CORRECTIONS = \"data/SB_publication_PMC_corrections.csv\"\n",
    "OUTPUT_FILE = \"data/SB_publication_PMC_clean.csv\""
   ]
  },
  {
   "cell_type": "markdown",
   "id": "578d6294",
   "metadata": {},
   "source": [
    "# Read files"
   ]
  },
  {
   "cell_type": "code",
   "execution_count": null,
   "id": "047c5fb9",
   "metadata": {},
   "outputs": [],
   "source": [
    "data_original = pd.read_csv(SB_PUBLICATIONS_PMC_ORIGINAL)\n",
    "print(len(data_original))\n",
    "data_original.head()"
   ]
  },
  {
   "cell_type": "code",
   "execution_count": null,
   "id": "486aa415-276c-4099-9030-1dd66de5c293",
   "metadata": {},
   "outputs": [],
   "source": [
    "data_corrections = pd.read_csv(SB_PUBLICATIONS_PMC_CORRECTIONS)\n",
    "print(len(data_corrections))\n",
    "data_corrections.head()"
   ]
  },
  {
   "cell_type": "markdown",
   "id": "3cd1d945",
   "metadata": {},
   "source": [
    "# Create SB_publications_PMC_clean"
   ]
  },
  {
   "cell_type": "code",
   "execution_count": null,
   "id": "f5efce5b-f0fb-4302-ab49-a0c8122e6130",
   "metadata": {},
   "outputs": [],
   "source": [
    "data_clean = data_original.copy()"
   ]
  },
  {
   "cell_type": "code",
   "execution_count": null,
   "id": "98ec584b",
   "metadata": {},
   "outputs": [],
   "source": [
    "data_clean = data_clean.drop_duplicates().reset_index(drop=True)\n",
    "print(len(data_clean))"
   ]
  },
  {
   "cell_type": "code",
   "execution_count": null,
   "id": "6c901788-9d66-4364-a712-b5f5b235be4c",
   "metadata": {},
   "outputs": [],
   "source": [
    "data_clean = data_clean[~data_clean[\"Title\"].isin(data_corrections[\"Title\"])]\n",
    "data_clean = data_clean.rename(columns={\"Title\": \"title\",\n",
    "                                        \"Link\": \"link\"})"
   ]
  },
  {
   "cell_type": "code",
   "execution_count": null,
   "id": "13c64e8f-910f-4e56-b5fd-09a54170cc9a",
   "metadata": {},
   "outputs": [],
   "source": [
    "data_corrections = data_corrections.dropna(subset=\"link_correct\")\n",
    "data_corrections = data_corrections[data_corrections[\"no_pmc\"].isna()].reset_index(drop=True)\n",
    "data_corrections = data_corrections[[\"Title\", \"link_correct\"]]\n",
    "data_corrections = data_corrections.rename(columns={\"Title\": \"title\",\n",
    "                                                    \"link_correct\": \"link\"})\n",
    "print(len(data_corrections))"
   ]
  },
  {
   "cell_type": "code",
   "execution_count": null,
   "id": "1ba2594e-db36-4f6f-8c6c-5e9ad6116508",
   "metadata": {},
   "outputs": [],
   "source": [
    "data_clean = pd.concat([data_clean, data_corrections])\n",
    "print(len(data_clean))"
   ]
  },
  {
   "cell_type": "code",
   "execution_count": null,
   "id": "66a1a36b-58be-488a-967a-1917cb51dabf",
   "metadata": {},
   "outputs": [],
   "source": [
    "data_clean = data_clean.drop_duplicates(subset=\"link\").reset_index(drop=True)\n",
    "print(len(data_clean))"
   ]
  },
  {
   "cell_type": "code",
   "execution_count": null,
   "id": "84ec8f9e-2865-46f4-a409-b03587a36598",
   "metadata": {},
   "outputs": [],
   "source": [
    "data_clean = data_clean.sample(frac=1, random_state=31).reset_index(drop=True)\n",
    "data_clean.head()"
   ]
  },
  {
   "cell_type": "markdown",
   "id": "8392654e",
   "metadata": {},
   "source": [
    "# Save file"
   ]
  },
  {
   "cell_type": "code",
   "execution_count": null,
   "id": "313f9433",
   "metadata": {},
   "outputs": [],
   "source": [
    "data_clean.to_csv(OUTPUT_FILE, index=False, encoding=\"utf-8\", sep=\"|\")"
   ]
  }
 ],
 "metadata": {
  "kernelspec": {
   "display_name": "nasa-space-biology-knowledge-engine",
   "language": "python",
   "name": "python3"
  },
  "language_info": {
   "codemirror_mode": {
    "name": "ipython",
    "version": 3
   },
   "file_extension": ".py",
   "mimetype": "text/x-python",
   "name": "python",
   "nbconvert_exporter": "python",
   "pygments_lexer": "ipython3",
   "version": "3.11.11"
  }
 },
 "nbformat": 4,
 "nbformat_minor": 5
}
