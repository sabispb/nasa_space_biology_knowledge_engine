{
 "cells": [
  {
   "cell_type": "code",
   "execution_count": null,
   "id": "059ccc85-b084-423b-a2fc-40b942612698",
   "metadata": {},
   "outputs": [],
   "source": [
    "cd ../.."
   ]
  },
  {
   "cell_type": "code",
   "execution_count": null,
   "id": "b154ee1e-2306-4cff-abaa-7259e5e8961e",
   "metadata": {},
   "outputs": [],
   "source": [
    "import ast\n",
    "import pandas as pd\n",
    "\n",
    "from tqdm import tqdm\n",
    "from typing import List, Optional, Any\n",
    "from xml.etree import ElementTree as ET"
   ]
  },
  {
   "cell_type": "markdown",
   "id": "a1463930-404a-4da5-aaf6-615d91ac6c9a",
   "metadata": {},
   "source": [
    "# Settings"
   ]
  },
  {
   "cell_type": "code",
   "execution_count": null,
   "id": "352bbb5b-283a-4b29-9b9e-06408a1e7dfe",
   "metadata": {},
   "outputs": [],
   "source": [
    "DATA_FILE = \"data/SB_publication_PMC_with_xml.parquet\"\n",
    "OUTPUT_FILE = \"data/SB_publication_PMC_disciplines.csv\""
   ]
  },
  {
   "cell_type": "markdown",
   "id": "9d7904c5-4381-491b-b65b-c745264a12ae",
   "metadata": {},
   "source": [
    "# Read data"
   ]
  },
  {
   "cell_type": "code",
   "execution_count": null,
   "id": "38f3fca3-ea96-442c-a62e-f4fe540f2b88",
   "metadata": {},
   "outputs": [],
   "source": [
    "df = pd.read_parquet(DATA_FILE)\n",
    "df.head()"
   ]
  },
  {
   "cell_type": "markdown",
   "id": "75c29582-f399-44f8-aca3-5a6c4b29a4e2",
   "metadata": {},
   "source": [
    "# Extract disciplines"
   ]
  },
  {
   "cell_type": "code",
   "execution_count": null,
   "id": "60e244ec-2bd6-4e20-a2bf-dcbcf06fc002",
   "metadata": {},
   "outputs": [],
   "source": [
    "def disciplines_to_dataframe(xml_bytes: bytes,\n",
    "                             article_id: Optional[Any] = None,\n",
    "                             include_keywords_fallback: bool = True) -> pd.DataFrame:\n",
    "    \"\"\"\n",
    "    Return a DataFrame with columns: article, categoria, level_categoria, parent_category.\n",
    "    Tries, in order:\n",
    "      1) subj-group[@subj-group-type in {\"Discipline-v2\",\"Discipline\",\"discipline\"}]\n",
    "      2) any subj-group under <article-categories> (e.g., 'heading' -> 'Review')\n",
    "      3) (optional) <kwd-group><kwd> as level-1 categories if nothing else is found.\n",
    "    Also robust to default namespaces and 'bytes-literal' wrappers like b'...'.\n",
    "    \"\"\"\n",
    "    # Handle files copied as Python bytes-literals: b'<?xml ...'\n",
    "    if xml_bytes.startswith(b\"b'\") or xml_bytes.startswith(b'b\"'):\n",
    "        try:\n",
    "            xml_bytes = ast.literal_eval(xml_bytes.decode(\"utf-8\", errors=\"ignore\"))\n",
    "        except Exception:\n",
    "            pass\n",
    "\n",
    "    def local(tag: str) -> str:\n",
    "        return tag.split('}')[-1] if '}' in tag else tag\n",
    "\n",
    "    def subjects(el: ET.Element) -> List[str]:\n",
    "        vals = []\n",
    "        for s in el:\n",
    "            if local(s.tag) == \"subject\":\n",
    "                t = \"\".join(s.itertext()).strip()\n",
    "                if t:\n",
    "                    vals.append(t)\n",
    "        return vals\n",
    "\n",
    "    def child_groups(el: ET.Element) -> List[ET.Element]:\n",
    "        return [c for c in el if local(c.tag) == \"subj-group\"]\n",
    "\n",
    "    def add_row(path: List[str]):\n",
    "        rows.append({\n",
    "            \"discipline\": path[-1],\n",
    "            \"level_discipline\": len(path),\n",
    "            \"parent_discipline\": path[-2] if len(path) > 1 else None,\n",
    "        })\n",
    "\n",
    "    def walk(group: ET.Element, path: List[str]):\n",
    "        subs = subjects(group)\n",
    "        kids = child_groups(group)\n",
    "        if subs:\n",
    "            for s in subs:\n",
    "                newp = path + [s]\n",
    "                add_row(newp)\n",
    "                for k in kids:\n",
    "                    walk(k, newp)\n",
    "        else:\n",
    "            for k in kids:\n",
    "                walk(k, path)\n",
    "\n",
    "    root = ET.fromstring(xml_bytes)\n",
    "    rows: List[dict] = []\n",
    "\n",
    "    # 1) Strict discipline groups\n",
    "    disc_types = {\"Discipline-v2\", \"Discipline\", \"discipline\"}\n",
    "    disc_groups = [el for el in root.iter() if local(el.tag) == \"subj-group\" and el.get(\"subj-group-type\") in disc_types]\n",
    "\n",
    "    if disc_groups:\n",
    "        # get top-level (exclude nested)\n",
    "        disc_set = set(disc_groups)\n",
    "        nested = set()\n",
    "        for g in disc_groups:\n",
    "            for d in g.iter():\n",
    "                if d in disc_set and d is not g:\n",
    "                    nested.add(d)\n",
    "        tops = [g for g in disc_groups if g not in nested]\n",
    "        for g in tops:\n",
    "            walk(g, [])\n",
    "    else:\n",
    "        # 2) Any article-categories hierarchy\n",
    "        ac_groups = []\n",
    "        for ac in root.iter():\n",
    "            if local(ac.tag) == \"article-categories\":\n",
    "                for el in ac.iter():\n",
    "                    if local(el.tag) == \"subj-group\":\n",
    "                        ac_groups.append(el)\n",
    "        if ac_groups:\n",
    "            ac_set = set(ac_groups)\n",
    "            nested = set()\n",
    "            for g in ac_groups:\n",
    "                for d in g.iter():\n",
    "                    if d in ac_set and d is not g:\n",
    "                        nested.add(d)\n",
    "            tops = [g for g in ac_groups if g not in nested]\n",
    "            for g in tops:\n",
    "                walk(g, [])\n",
    "\n",
    "        # 3) Fallback to keywords if still empty\n",
    "        if not rows and include_keywords_fallback:\n",
    "            for kg in root.iter():\n",
    "                if local(kg.tag) == \"kwd-group\":\n",
    "                    for kw in kg:\n",
    "                        if local(kw.tag) == \"kwd\":\n",
    "                            t = \"\".join(kw.itertext()).strip()\n",
    "                            if t:\n",
    "                                add_row([t])\n",
    "\n",
    "    df = pd.DataFrame(rows, columns=[\"discipline\", \"level_discipline\", \"parent_discipline\"])\n",
    "    if not df.empty:\n",
    "        df = df.drop_duplicates()\n",
    "    return df"
   ]
  },
  {
   "cell_type": "code",
   "execution_count": null,
   "id": "3a6c2939-2747-46de-96ee-27a05242cdba",
   "metadata": {},
   "outputs": [],
   "source": [
    "all_disciplines = []\n",
    "for _, row in tqdm(df.iterrows(), total=len(df)):\n",
    "    df_pmc = disciplines_to_dataframe(row[\"xml\"])\n",
    "    df_pmc[\"pmc\"] = row[\"pmc\"]\n",
    "    df_pmc = df_pmc[[\"pmc\", \"discipline\", \"level_discipline\", \"parent_discipline\"]]\n",
    "    all_disciplines.append(df_pmc)\n",
    "all_disciplines = pd.concat(all_disciplines).reset_index(drop=True)\n",
    "all_disciplines.head()"
   ]
  },
  {
   "cell_type": "markdown",
   "id": "7015b443-486c-4596-87ac-6aa907f91053",
   "metadata": {},
   "source": [
    "# Save file"
   ]
  },
  {
   "cell_type": "code",
   "execution_count": null,
   "id": "d0dcaabe-64b3-4561-a1b2-e938d77be83e",
   "metadata": {},
   "outputs": [],
   "source": [
    "all_disciplines.to_csv(OUTPUT_FILE, index=False, encoding=\"utf-8\", sep=\"|\")"
   ]
  }
 ],
 "metadata": {
  "kernelspec": {
   "display_name": "Python 3 (ipykernel)",
   "language": "python",
   "name": "python3"
  },
  "language_info": {
   "codemirror_mode": {
    "name": "ipython",
    "version": 3
   },
   "file_extension": ".py",
   "mimetype": "text/x-python",
   "name": "python",
   "nbconvert_exporter": "python",
   "pygments_lexer": "ipython3",
   "version": "3.11.11"
  }
 },
 "nbformat": 4,
 "nbformat_minor": 5
}
