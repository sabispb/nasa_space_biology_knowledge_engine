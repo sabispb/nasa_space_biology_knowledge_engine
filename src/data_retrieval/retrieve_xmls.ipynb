{
 "cells": [
  {
   "cell_type": "code",
   "execution_count": null,
   "id": "08a96f7b",
   "metadata": {},
   "outputs": [],
   "source": [
    "cd ../.."
   ]
  },
  {
   "cell_type": "code",
   "execution_count": null,
   "id": "06853aa6",
   "metadata": {},
   "outputs": [],
   "source": [
    "import pandas as pd\n",
    "\n",
    "from Bio import Entrez\n",
    "from tqdm import tqdm\n",
    "from xml.etree import ElementTree as ET\n",
    "\n",
    "tqdm.pandas()"
   ]
  },
  {
   "cell_type": "markdown",
   "id": "6b4929ba",
   "metadata": {},
   "source": [
    "# Settings"
   ]
  },
  {
   "cell_type": "code",
   "execution_count": null,
   "id": "9853322a",
   "metadata": {},
   "outputs": [],
   "source": [
    "SB_PUBLICATIONS_PMC_CLEAN = \"data/SB_publication_PMC_clean.csv\"\n",
    "OUTPUT_FILE = \"data/SB_publication_PMC_with_xml.parquet\""
   ]
  },
  {
   "cell_type": "markdown",
   "id": "578d6294",
   "metadata": {},
   "source": [
    "# Functions"
   ]
  },
  {
   "cell_type": "code",
   "execution_count": null,
   "id": "047c5fb9",
   "metadata": {},
   "outputs": [],
   "source": [
    "def retrieve_xml(pmc: str) -> bytes:\n",
    "    \"\"\"\n",
    "    Retrieve the full XML record of a PubMed Central (PMC) article.\n",
    "    Args:\n",
    "        pmc (str): The PMC ID of the article\n",
    "    Returns:\n",
    "        bytes: The raw XML content of the article as returned by the Entrez API.\n",
    "    \"\"\"\n",
    "    Entrez.email = \"ENTER_YOUR_EMAIL_HERE\"\n",
    "    retries = 2\n",
    "    delay = 10\n",
    "    for attempt in range(retries + 1):\n",
    "        try:\n",
    "            with Entrez.efetch(db=\"pmc\", id=pmc) as handle:\n",
    "                return handle.read()\n",
    "        except HTTPError as e:\n",
    "            if attempt < retries:\n",
    "                print(f\"Failed to fetch PMC{pmc}. Retrying in {delay} seconds\")\n",
    "                time.sleep(delay)\n",
    "            else:\n",
    "                print(f\"Failed to fetch PMC{pmc} after {retries + 1} attempts: {e}\")\n",
    "                return None"
   ]
  },
  {
   "cell_type": "markdown",
   "id": "3cd1d945",
   "metadata": {},
   "source": [
    "# Read data"
   ]
  },
  {
   "cell_type": "code",
   "execution_count": null,
   "id": "98ec584b",
   "metadata": {},
   "outputs": [],
   "source": [
    "df = pd.read_csv(SB_PUBLICATIONS_PMC_CLEAN, sep=\"|\")\n",
    "df.head()"
   ]
  },
  {
   "cell_type": "markdown",
   "id": "1b3c11ef",
   "metadata": {},
   "source": [
    "# Retrieve contents"
   ]
  },
  {
   "cell_type": "code",
   "execution_count": null,
   "id": "b63a06b8",
   "metadata": {},
   "outputs": [],
   "source": [
    "df[\"pmc\"] = df[\"link\"].apply(lambda x: x.split(\"/\")[-2].replace(\"PMC\", \"\"))\n",
    "df.head()"
   ]
  },
  {
   "cell_type": "code",
   "execution_count": null,
   "id": "8b0acc50",
   "metadata": {},
   "outputs": [],
   "source": [
    "df[\"xml\"] = df[\"pmc\"].progress_apply(retrieve_xml)\n",
    "df.head()"
   ]
  },
  {
   "cell_type": "markdown",
   "id": "8392654e",
   "metadata": {},
   "source": [
    "# Save file"
   ]
  },
  {
   "cell_type": "code",
   "execution_count": null,
   "id": "313f9433",
   "metadata": {},
   "outputs": [],
   "source": [
    "df.to_parquet(OUTPUT_FILE)"
   ]
  }
 ],
 "metadata": {
  "kernelspec": {
   "display_name": "Python 3 (ipykernel)",
   "language": "python",
   "name": "python3"
  },
  "language_info": {
   "codemirror_mode": {
    "name": "ipython",
    "version": 3
   },
   "file_extension": ".py",
   "mimetype": "text/x-python",
   "name": "python",
   "nbconvert_exporter": "python",
   "pygments_lexer": "ipython3",
   "version": "3.11.11"
  }
 },
 "nbformat": 4,
 "nbformat_minor": 5
}
