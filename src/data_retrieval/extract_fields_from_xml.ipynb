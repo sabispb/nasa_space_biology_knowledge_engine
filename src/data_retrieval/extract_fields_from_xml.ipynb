{
 "cells": [
  {
   "cell_type": "code",
   "execution_count": null,
   "id": "059ccc85-b084-423b-a2fc-40b942612698",
   "metadata": {},
   "outputs": [],
   "source": [
    "cd ../.."
   ]
  },
  {
   "cell_type": "code",
   "execution_count": null,
   "id": "b154ee1e-2306-4cff-abaa-7259e5e8961e",
   "metadata": {},
   "outputs": [],
   "source": [
    "import pandas as pd\n",
    "\n",
    "from tqdm import tqdm\n",
    "from xml.etree import ElementTree as ET\n",
    "\n",
    "tqdm.pandas()"
   ]
  },
  {
   "cell_type": "markdown",
   "id": "a1463930-404a-4da5-aaf6-615d91ac6c9a",
   "metadata": {},
   "source": [
    "# Settings"
   ]
  },
  {
   "cell_type": "code",
   "execution_count": null,
   "id": "352bbb5b-283a-4b29-9b9e-06408a1e7dfe",
   "metadata": {},
   "outputs": [],
   "source": [
    "DATA_FILE = \"data/SB_publication_PMC_with_xml.parquet\"\n",
    "OUTPUT_FILE = \"data/SB_publication_PMC_data.csv\""
   ]
  },
  {
   "cell_type": "markdown",
   "id": "9d7904c5-4381-491b-b65b-c745264a12ae",
   "metadata": {},
   "source": [
    "# Read data"
   ]
  },
  {
   "cell_type": "code",
   "execution_count": null,
   "id": "38f3fca3-ea96-442c-a62e-f4fe540f2b88",
   "metadata": {},
   "outputs": [],
   "source": [
    "df = pd.read_parquet(DATA_FILE)\n",
    "df.head()"
   ]
  },
  {
   "cell_type": "markdown",
   "id": "75c29582-f399-44f8-aca3-5a6c4b29a4e2",
   "metadata": {},
   "source": [
    "# Retrieve contents"
   ]
  },
  {
   "cell_type": "markdown",
   "id": "603a5626-d9a4-452b-a60f-0534b0224515",
   "metadata": {},
   "source": [
    "## Article type"
   ]
  },
  {
   "cell_type": "code",
   "execution_count": null,
   "id": "dfee88de-5283-463f-9901-248be0c37f87",
   "metadata": {
    "scrolled": true
   },
   "outputs": [],
   "source": [
    "def get_article_type(xml_bytes: bytes) -> str:\n",
    "    \"\"\"\n",
    "    Extract the article type from the XML content.\n",
    "    Args:\n",
    "        xml_bytes (bytes): The XML content as bytes.\n",
    "    Returns:\n",
    "        str: The article type with hyphens replaced by spaces.        \n",
    "    \"\"\"\n",
    "    root = ET.fromstring(xml_bytes)\n",
    "    article_elem = root.find(\".//article\")\n",
    "    article_type = article_elem.get(\"article-type\") if article_elem is not None else None\n",
    "    return article_type.replace(\"-\", \" \")"
   ]
  },
  {
   "cell_type": "code",
   "execution_count": null,
   "id": "5dd2b13a-290f-40f8-a634-d2cadb33958c",
   "metadata": {
    "scrolled": true
   },
   "outputs": [],
   "source": [
    "df[\"article_type\"] = df[\"xml\"].progress_apply(get_article_type)"
   ]
  },
  {
   "cell_type": "code",
   "execution_count": null,
   "id": "eec64d7b-1ea8-468a-82f4-2347a1d2f59a",
   "metadata": {},
   "outputs": [],
   "source": [
    "df[\"article_type\"].value_counts()"
   ]
  },
  {
   "cell_type": "markdown",
   "id": "4c93814f-d567-4882-999d-7e95f880fd5a",
   "metadata": {},
   "source": [
    "## Language"
   ]
  },
  {
   "cell_type": "code",
   "execution_count": null,
   "id": "f3832346-6d38-4c60-8804-4aa38615c06b",
   "metadata": {
    "scrolled": true
   },
   "outputs": [],
   "source": [
    "def get_article_lang(xml_bytes: bytes) -> str | None:\n",
    "    \"\"\"\n",
    "    Extract the article language from the XML content.\n",
    "    Args:\n",
    "        xml_bytes (bytes): The XML content as bytes.\n",
    "    Returns:\n",
    "        str | None: The article language in lowercase, or None if not found.\n",
    "    \"\"\"\n",
    "    root = ET.fromstring(xml_bytes)\n",
    "    article_elem = root.find(\".//article\")\n",
    "    lang = article_elem.get(\"{http://www.w3.org/XML/1998/namespace}lang\") if article_elem is not None else None\n",
    "    return lang.lower()"
   ]
  },
  {
   "cell_type": "code",
   "execution_count": null,
   "id": "88bd2472-bd21-4eeb-ba80-16de9845cf45",
   "metadata": {},
   "outputs": [],
   "source": [
    "df[\"language\"] = df[\"xml\"].progress_apply(get_article_lang)"
   ]
  },
  {
   "cell_type": "code",
   "execution_count": null,
   "id": "1194e8ec-d29b-4ee4-9bfc-0416796ded50",
   "metadata": {},
   "outputs": [],
   "source": [
    "df[\"language\"].value_counts()"
   ]
  },
  {
   "cell_type": "markdown",
   "id": "3c941739-4e63-4dc6-a888-f0148b137cda",
   "metadata": {},
   "source": [
    "## Journal"
   ]
  },
  {
   "cell_type": "code",
   "execution_count": null,
   "id": "c3640730-7a25-40d9-9162-19da65ce42a1",
   "metadata": {},
   "outputs": [],
   "source": [
    "def get_journal_title(xml_bytes: bytes) -> str | None:\n",
    "    \"\"\"\n",
    "    Extract the journal title from the XML content.\n",
    "    Args:\n",
    "        xml_bytes (bytes): The XML content as bytes.\n",
    "    Returns:\n",
    "        str | None: The journal title, or None if not found.\n",
    "    \"\"\"\n",
    "    root = ET.fromstring(xml_bytes)\n",
    "    elem = root.find(\".//journal-title-group/journal-title\")\n",
    "    return elem.text.strip() if elem is not None and elem.text else None"
   ]
  },
  {
   "cell_type": "code",
   "execution_count": null,
   "id": "552ecf34-f92c-4225-baaf-6a212459d14f",
   "metadata": {},
   "outputs": [],
   "source": [
    "df[\"journal\"] = df[\"xml\"].progress_apply(get_journal_title)"
   ]
  },
  {
   "cell_type": "code",
   "execution_count": null,
   "id": "5a67fc69-6c95-4079-8a1d-2bc39fb8dd4d",
   "metadata": {},
   "outputs": [],
   "source": [
    "df[\"journal\"].value_counts()"
   ]
  },
  {
   "cell_type": "markdown",
   "id": "64d8df55-a006-461d-9cba-8424d9774f94",
   "metadata": {},
   "source": [
    "## Publisher"
   ]
  },
  {
   "cell_type": "code",
   "execution_count": null,
   "id": "39bf617c-03f3-4153-bef5-73bcc910a84b",
   "metadata": {},
   "outputs": [],
   "source": [
    "def get_publisher_name(xml_bytes: bytes) -> str | None:\n",
    "    \"\"\"\n",
    "    Extract the publisher name from the XML content.\n",
    "    Args:\n",
    "        xml_bytes (bytes): The XML content as bytes.\n",
    "    Returns:\n",
    "        str | None: The publisher name, or None if not found.\n",
    "    \"\"\"\n",
    "    root = ET.fromstring(xml_bytes)\n",
    "    elem = root.find(\".//publisher/publisher-name\")\n",
    "    return elem.text.strip() if elem is not None and elem.text else None"
   ]
  },
  {
   "cell_type": "code",
   "execution_count": null,
   "id": "9623c083-52fb-4d23-bf1b-beced51cf5a1",
   "metadata": {},
   "outputs": [],
   "source": [
    "df[\"publisher\"] = df[\"xml\"].progress_apply(get_publisher_name)"
   ]
  },
  {
   "cell_type": "code",
   "execution_count": null,
   "id": "d02233a5-501f-4a2b-a07b-acff6a7e107c",
   "metadata": {},
   "outputs": [],
   "source": [
    "df[\"publisher\"].value_counts()"
   ]
  },
  {
   "cell_type": "markdown",
   "id": "6ef6ff04-ba60-492e-bc9b-005a0bf890f6",
   "metadata": {},
   "source": [
    "## Publication year"
   ]
  },
  {
   "cell_type": "code",
   "execution_count": null,
   "id": "4a84e58a-d3d9-4a98-9a5f-391b1349e428",
   "metadata": {},
   "outputs": [],
   "source": [
    "def get_publication_year(xml_bytes: bytes) -> str | None:\n",
    "    \"\"\"\n",
    "    Extract the publication year from the XML content.\n",
    "    Args:\n",
    "        xml_bytes (bytes): The XML content as bytes.\n",
    "    Returns:\n",
    "        str | None: The publication year, or None if not found.\n",
    "    \"\"\"\n",
    "    root = ET.fromstring(xml_bytes)\n",
    "    elem = root.find(\".//pub-date/year\")\n",
    "    return elem.text.strip() if elem is not None and elem.text else None"
   ]
  },
  {
   "cell_type": "code",
   "execution_count": null,
   "id": "8918d999-60a6-4f34-8fdd-7351bf983cb9",
   "metadata": {},
   "outputs": [],
   "source": [
    "df[\"publication_year\"] = df[\"xml\"].progress_apply(get_publication_year)"
   ]
  },
  {
   "cell_type": "code",
   "execution_count": null,
   "id": "e5cde3f2-ee05-4ffc-8e12-a61c1ae1a535",
   "metadata": {},
   "outputs": [],
   "source": [
    "df[\"publication_year\"].value_counts()"
   ]
  },
  {
   "cell_type": "markdown",
   "id": "1cd58031-dc17-40f4-b566-adf8937594ea",
   "metadata": {},
   "source": [
    "# Save file"
   ]
  },
  {
   "cell_type": "code",
   "execution_count": null,
   "id": "d2b05b85-e7b2-4e63-b3d1-32b86e12b8d2",
   "metadata": {},
   "outputs": [],
   "source": [
    "df.head()"
   ]
  },
  {
   "cell_type": "code",
   "execution_count": null,
   "id": "4e299c80-7671-4fa5-9a73-a9647c572595",
   "metadata": {},
   "outputs": [],
   "source": [
    "df = df.drop(columns=\"xml\")"
   ]
  },
  {
   "cell_type": "code",
   "execution_count": null,
   "id": "395815b2-2d46-44ac-91b3-a4410c29e503",
   "metadata": {},
   "outputs": [],
   "source": [
    "df.to_csv(OUTPUT_FILE, index=False, encoding=\"utf-8\", sep=\"|\")"
   ]
  }
 ],
 "metadata": {
  "kernelspec": {
   "display_name": "Python 3 (ipykernel)",
   "language": "python",
   "name": "python3"
  },
  "language_info": {
   "codemirror_mode": {
    "name": "ipython",
    "version": 3
   },
   "file_extension": ".py",
   "mimetype": "text/x-python",
   "name": "python",
   "nbconvert_exporter": "python",
   "pygments_lexer": "ipython3",
   "version": "3.11.11"
  }
 },
 "nbformat": 4,
 "nbformat_minor": 5
}
