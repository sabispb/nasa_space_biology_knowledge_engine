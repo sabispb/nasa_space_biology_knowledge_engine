{
 "cells": [
  {
   "cell_type": "code",
   "execution_count": 1,
   "id": "059ccc85-b084-423b-a2fc-40b942612698",
   "metadata": {},
   "outputs": [
    {
     "name": "stdout",
     "output_type": "stream",
     "text": [
      "/Users/didac.fortuny/Repos/ddc/nasa_space_biology_knowledge_engine\n"
     ]
    }
   ],
   "source": [
    "cd ../.."
   ]
  },
  {
   "cell_type": "code",
   "execution_count": 2,
   "id": "b154ee1e-2306-4cff-abaa-7259e5e8961e",
   "metadata": {},
   "outputs": [],
   "source": [
    "import pandas as pd\n",
    "\n",
    "from tqdm import tqdm\n",
    "from xml.etree import ElementTree as ET\n",
    "\n",
    "tqdm.pandas()"
   ]
  },
  {
   "cell_type": "markdown",
   "id": "a1463930-404a-4da5-aaf6-615d91ac6c9a",
   "metadata": {},
   "source": [
    "# Settings"
   ]
  },
  {
   "cell_type": "code",
   "execution_count": 3,
   "id": "352bbb5b-283a-4b29-9b9e-06408a1e7dfe",
   "metadata": {},
   "outputs": [],
   "source": [
    "DATA_FILE = \"data/SB_publication_PMC_with_xml.parquet\"\n",
    "OUTPUT_FILE = \"data/SB_publication_PMC_data.csv\""
   ]
  },
  {
   "cell_type": "markdown",
   "id": "9d7904c5-4381-491b-b65b-c745264a12ae",
   "metadata": {},
   "source": [
    "# Read data"
   ]
  },
  {
   "cell_type": "code",
   "execution_count": 4,
   "id": "38f3fca3-ea96-442c-a62e-f4fe540f2b88",
   "metadata": {},
   "outputs": [
    {
     "data": {
      "text/html": [
       "<div>\n",
       "<style scoped>\n",
       "    .dataframe tbody tr th:only-of-type {\n",
       "        vertical-align: middle;\n",
       "    }\n",
       "\n",
       "    .dataframe tbody tr th {\n",
       "        vertical-align: top;\n",
       "    }\n",
       "\n",
       "    .dataframe thead th {\n",
       "        text-align: right;\n",
       "    }\n",
       "</style>\n",
       "<table border=\"1\" class=\"dataframe\">\n",
       "  <thead>\n",
       "    <tr style=\"text-align: right;\">\n",
       "      <th></th>\n",
       "      <th>Title</th>\n",
       "      <th>Link</th>\n",
       "      <th>pmc</th>\n",
       "      <th>xml</th>\n",
       "    </tr>\n",
       "  </thead>\n",
       "  <tbody>\n",
       "    <tr>\n",
       "      <th>0</th>\n",
       "      <td>Mice in Bion-M 1 space mission: training and s...</td>\n",
       "      <td>https://www.ncbi.nlm.nih.gov/pmc/articles/PMC4...</td>\n",
       "      <td>4136787</td>\n",
       "      <td>b'&lt;?xml version=\"1.0\"  ?&gt;&lt;!DOCTYPE pmc-article...</td>\n",
       "    </tr>\n",
       "    <tr>\n",
       "      <th>1</th>\n",
       "      <td>Microgravity induces pelvic bone loss through ...</td>\n",
       "      <td>https://www.ncbi.nlm.nih.gov/pmc/articles/PMC3...</td>\n",
       "      <td>3630201</td>\n",
       "      <td>b'&lt;?xml version=\"1.0\"  ?&gt;&lt;!DOCTYPE pmc-article...</td>\n",
       "    </tr>\n",
       "    <tr>\n",
       "      <th>2</th>\n",
       "      <td>Stem Cell Health and Tissue Regeneration in Mi...</td>\n",
       "      <td>https://www.ncbi.nlm.nih.gov/pmc/articles/PMC1...</td>\n",
       "      <td>11988870</td>\n",
       "      <td>b'&lt;?xml version=\"1.0\"  ?&gt;&lt;!DOCTYPE pmc-article...</td>\n",
       "    </tr>\n",
       "    <tr>\n",
       "      <th>3</th>\n",
       "      <td>Microgravity Reduces the Differentiation and R...</td>\n",
       "      <td>https://www.ncbi.nlm.nih.gov/pmc/articles/PMC7...</td>\n",
       "      <td>7998608</td>\n",
       "      <td>b'&lt;?xml version=\"1.0\"  ?&gt;&lt;!DOCTYPE pmc-article...</td>\n",
       "    </tr>\n",
       "    <tr>\n",
       "      <th>4</th>\n",
       "      <td>Microgravity validation of a novel system for ...</td>\n",
       "      <td>https://www.ncbi.nlm.nih.gov/pmc/articles/PMC5...</td>\n",
       "      <td>5587110</td>\n",
       "      <td>b'&lt;?xml version=\"1.0\"  ?&gt;&lt;!DOCTYPE pmc-article...</td>\n",
       "    </tr>\n",
       "  </tbody>\n",
       "</table>\n",
       "</div>"
      ],
      "text/plain": [
       "                                               Title  \\\n",
       "0  Mice in Bion-M 1 space mission: training and s...   \n",
       "1  Microgravity induces pelvic bone loss through ...   \n",
       "2  Stem Cell Health and Tissue Regeneration in Mi...   \n",
       "3  Microgravity Reduces the Differentiation and R...   \n",
       "4  Microgravity validation of a novel system for ...   \n",
       "\n",
       "                                                Link       pmc  \\\n",
       "0  https://www.ncbi.nlm.nih.gov/pmc/articles/PMC4...   4136787   \n",
       "1  https://www.ncbi.nlm.nih.gov/pmc/articles/PMC3...   3630201   \n",
       "2  https://www.ncbi.nlm.nih.gov/pmc/articles/PMC1...  11988870   \n",
       "3  https://www.ncbi.nlm.nih.gov/pmc/articles/PMC7...   7998608   \n",
       "4  https://www.ncbi.nlm.nih.gov/pmc/articles/PMC5...   5587110   \n",
       "\n",
       "                                                 xml  \n",
       "0  b'<?xml version=\"1.0\"  ?><!DOCTYPE pmc-article...  \n",
       "1  b'<?xml version=\"1.0\"  ?><!DOCTYPE pmc-article...  \n",
       "2  b'<?xml version=\"1.0\"  ?><!DOCTYPE pmc-article...  \n",
       "3  b'<?xml version=\"1.0\"  ?><!DOCTYPE pmc-article...  \n",
       "4  b'<?xml version=\"1.0\"  ?><!DOCTYPE pmc-article...  "
      ]
     },
     "execution_count": 4,
     "metadata": {},
     "output_type": "execute_result"
    }
   ],
   "source": [
    "df = pd.read_parquet(DATA_FILE)\n",
    "df.head()"
   ]
  },
  {
   "cell_type": "markdown",
   "id": "75c29582-f399-44f8-aca3-5a6c4b29a4e2",
   "metadata": {},
   "source": [
    "# Retrieve contents"
   ]
  },
  {
   "cell_type": "markdown",
   "id": "603a5626-d9a4-452b-a60f-0534b0224515",
   "metadata": {},
   "source": [
    "## Article type"
   ]
  },
  {
   "cell_type": "code",
   "execution_count": 5,
   "id": "dfee88de-5283-463f-9901-248be0c37f87",
   "metadata": {
    "scrolled": true
   },
   "outputs": [],
   "source": [
    "def get_article_type(xml_bytes: bytes) -> str:\n",
    "    \"\"\"\n",
    "    Extract the article type from the XML content.\n",
    "    Args:\n",
    "        xml_bytes (bytes): The XML content as bytes.\n",
    "    Returns:\n",
    "        str: The article type with hyphens replaced by spaces.        \n",
    "    \"\"\"\n",
    "    root = ET.fromstring(xml_bytes)\n",
    "    article_elem = root.find(\".//article\")\n",
    "    article_type = article_elem.get(\"article-type\") if article_elem is not None else None\n",
    "    return article_type.replace(\"-\", \" \")"
   ]
  },
  {
   "cell_type": "code",
   "execution_count": 6,
   "id": "5dd2b13a-290f-40f8-a634-d2cadb33958c",
   "metadata": {
    "scrolled": true
   },
   "outputs": [
    {
     "name": "stderr",
     "output_type": "stream",
     "text": [
      "100%|██████████| 607/607 [00:01<00:00, 490.79it/s]\n"
     ]
    }
   ],
   "source": [
    "df[\"article_type\"] = df[\"xml\"].progress_apply(get_article_type)"
   ]
  },
  {
   "cell_type": "code",
   "execution_count": 7,
   "id": "eec64d7b-1ea8-468a-82f4-2347a1d2f59a",
   "metadata": {},
   "outputs": [
    {
     "data": {
      "text/plain": [
       "article_type\n",
       "research article      512\n",
       "review article         44\n",
       "brief report           27\n",
       "correction             12\n",
       "article commentary      3\n",
       "other                   3\n",
       "editorial               2\n",
       "letter                  1\n",
       "reply                   1\n",
       "methods article         1\n",
       "discussion              1\n",
       "Name: count, dtype: int64"
      ]
     },
     "execution_count": 7,
     "metadata": {},
     "output_type": "execute_result"
    }
   ],
   "source": [
    "df[\"article_type\"].value_counts()"
   ]
  },
  {
   "cell_type": "markdown",
   "id": "4c93814f-d567-4882-999d-7e95f880fd5a",
   "metadata": {},
   "source": [
    "## Language"
   ]
  },
  {
   "cell_type": "code",
   "execution_count": 8,
   "id": "f3832346-6d38-4c60-8804-4aa38615c06b",
   "metadata": {
    "scrolled": true
   },
   "outputs": [],
   "source": [
    "def get_article_lang(xml_bytes: bytes) -> str | None:\n",
    "    \"\"\"\n",
    "    Extract the article language from the XML content.\n",
    "    Args:\n",
    "        xml_bytes (bytes): The XML content as bytes.\n",
    "    Returns:\n",
    "        str | None: The article language in lowercase, or None if not found.\n",
    "    \"\"\"\n",
    "    root = ET.fromstring(xml_bytes)\n",
    "    article_elem = root.find(\".//article\")\n",
    "    lang = article_elem.get(\"{http://www.w3.org/XML/1998/namespace}lang\") if article_elem is not None else None\n",
    "    return lang.lower()"
   ]
  },
  {
   "cell_type": "code",
   "execution_count": 9,
   "id": "88bd2472-bd21-4eeb-ba80-16de9845cf45",
   "metadata": {},
   "outputs": [
    {
     "name": "stderr",
     "output_type": "stream",
     "text": [
      "100%|██████████| 607/607 [00:01<00:00, 501.58it/s]\n"
     ]
    }
   ],
   "source": [
    "df[\"language\"] = df[\"xml\"].progress_apply(get_article_lang)"
   ]
  },
  {
   "cell_type": "code",
   "execution_count": 10,
   "id": "1194e8ec-d29b-4ee4-9bfc-0416796ded50",
   "metadata": {},
   "outputs": [
    {
     "data": {
      "text/plain": [
       "language\n",
       "en    607\n",
       "Name: count, dtype: int64"
      ]
     },
     "execution_count": 10,
     "metadata": {},
     "output_type": "execute_result"
    }
   ],
   "source": [
    "df[\"language\"].value_counts()"
   ]
  },
  {
   "cell_type": "markdown",
   "id": "3c941739-4e63-4dc6-a888-f0148b137cda",
   "metadata": {},
   "source": [
    "## Journal"
   ]
  },
  {
   "cell_type": "code",
   "execution_count": 11,
   "id": "c3640730-7a25-40d9-9162-19da65ce42a1",
   "metadata": {},
   "outputs": [],
   "source": [
    "def get_journal_title(xml_bytes: bytes) -> str | None:\n",
    "    \"\"\"\n",
    "    Extract the journal title from the XML content.\n",
    "    Args:\n",
    "        xml_bytes (bytes): The XML content as bytes.\n",
    "    Returns:\n",
    "        str | None: The journal title, or None if not found.\n",
    "    \"\"\"\n",
    "    root = ET.fromstring(xml_bytes)\n",
    "    elem = root.find(\".//journal-title-group/journal-title\")\n",
    "    return elem.text.strip() if elem is not None and elem.text else None"
   ]
  },
  {
   "cell_type": "code",
   "execution_count": 12,
   "id": "552ecf34-f92c-4225-baaf-6a212459d14f",
   "metadata": {},
   "outputs": [
    {
     "name": "stderr",
     "output_type": "stream",
     "text": [
      "100%|██████████| 607/607 [00:01<00:00, 499.84it/s]\n"
     ]
    }
   ],
   "source": [
    "df[\"journal\"] = df[\"xml\"].progress_apply(get_journal_title)"
   ]
  },
  {
   "cell_type": "code",
   "execution_count": 13,
   "id": "5a67fc69-6c95-4079-8a1d-2bc39fb8dd4d",
   "metadata": {},
   "outputs": [
    {
     "data": {
      "text/plain": [
       "journal\n",
       "NPJ Microgravity                                                            47\n",
       "International Journal of Molecular Sciences                                 30\n",
       "Scientific Reports                                                          29\n",
       "PLoS ONE                                                                    26\n",
       "Frontiers in Plant Science                                                  25\n",
       "                                                                            ..\n",
       "Micromachines                                                                1\n",
       "Journal of Otolaryngology - Head & Neck Surgery                              1\n",
       "The spine journal : official journal of the North American Spine Society     1\n",
       "Spine                                                                        1\n",
       "Lab on a Chip                                                                1\n",
       "Name: count, Length: 205, dtype: int64"
      ]
     },
     "execution_count": 13,
     "metadata": {},
     "output_type": "execute_result"
    }
   ],
   "source": [
    "df[\"journal\"].value_counts()"
   ]
  },
  {
   "cell_type": "markdown",
   "id": "64d8df55-a006-461d-9cba-8424d9774f94",
   "metadata": {},
   "source": [
    "## Publisher"
   ]
  },
  {
   "cell_type": "code",
   "execution_count": 14,
   "id": "39bf617c-03f3-4153-bef5-73bcc910a84b",
   "metadata": {},
   "outputs": [],
   "source": [
    "def get_publisher_name(xml_bytes: bytes) -> str | None:\n",
    "    \"\"\"\n",
    "    Extract the publisher name from the XML content.\n",
    "    Args:\n",
    "        xml_bytes (bytes): The XML content as bytes.\n",
    "    Returns:\n",
    "        str | None: The publisher name, or None if not found.\n",
    "    \"\"\"\n",
    "    root = ET.fromstring(xml_bytes)\n",
    "    elem = root.find(\".//publisher/publisher-name\")\n",
    "    return elem.text.strip() if elem is not None and elem.text else None"
   ]
  },
  {
   "cell_type": "code",
   "execution_count": 15,
   "id": "9623c083-52fb-4d23-bf1b-beced51cf5a1",
   "metadata": {},
   "outputs": [
    {
     "name": "stderr",
     "output_type": "stream",
     "text": [
      "100%|██████████| 607/607 [00:01<00:00, 490.92it/s]\n"
     ]
    }
   ],
   "source": [
    "df[\"publisher\"] = df[\"xml\"].progress_apply(get_publisher_name)"
   ]
  },
  {
   "cell_type": "code",
   "execution_count": 16,
   "id": "d02233a5-501f-4a2b-a07b-acff6a7e107c",
   "metadata": {},
   "outputs": [
    {
     "data": {
      "text/plain": [
       "publisher\n",
       "Nature Publishing Group                                                       117\n",
       "Multidisciplinary Digital Publishing Institute  (MDPI)                         80\n",
       "Frontiers Media SA                                                             50\n",
       "American Society for Microbiology (ASM)                                        42\n",
       "Oxford University Press                                                        35\n",
       "BMC                                                                            33\n",
       "PLOS                                                                           32\n",
       "Elsevier                                                                       28\n",
       "Wiley                                                                          14\n",
       "National Academy of Sciences                                                   13\n",
       "Mary Ann Liebert, Inc.                                                          9\n",
       "American Physiological Society                                                  8\n",
       "The Federation of American Societies for Experimental Biology                   6\n",
       "Company of Biologists                                                           4\n",
       "Taylor & Francis                                                                3\n",
       "Royal Society of Chemistry                                                      3\n",
       "Chengdu Sport University                                                        2\n",
       "American Institute of Physics                                                   2\n",
       "American Society for Biochemistry and Molecular Biology                         2\n",
       "eLife Sciences Publications, Ltd                                                2\n",
       "MyJoVE Corporation                                                              2\n",
       "American Society of Gene & Cell Therapy                                         2\n",
       "Springer                                                                        2\n",
       "Cold Spring Harbor Laboratory Press                                             1\n",
       "American Chemical Society                                                       1\n",
       "Japanese Society for Plant Biotechnology                                        1\n",
       "American Medical Informatics Association                                        1\n",
       "Impact Journals, LLC                                                            1\n",
       "Dove Press                                                                      1\n",
       "Japan Society for Cell Biology                                                  1\n",
       "Cold Spring Harbor Laboratory Preprints                                         1\n",
       "Bentham Science Publishers                                                      1\n",
       "Centers for Disease Control and Prevention                                      1\n",
       "American Association for the Advancement of Science                             1\n",
       "International Mycological Association                                           1\n",
       "Research Network of Computational and Structural Biotechnology                  1\n",
       "International Society of Musculoskeletal and Neuronal Interactions (ISMNI)      1\n",
       "The Rockefeller University Press                                                1\n",
       "The Endocrine Society                                                           1\n",
       "SAGE Publications                                                               1\n",
       "Wolters Kluwer Health                                                           1\n",
       "Bioscientifica Ltd.                                                             1\n",
       "Name: count, dtype: int64"
      ]
     },
     "execution_count": 16,
     "metadata": {},
     "output_type": "execute_result"
    }
   ],
   "source": [
    "df[\"publisher\"].value_counts()"
   ]
  },
  {
   "cell_type": "markdown",
   "id": "6ef6ff04-ba60-492e-bc9b-005a0bf890f6",
   "metadata": {},
   "source": [
    "## Publication year"
   ]
  },
  {
   "cell_type": "code",
   "execution_count": 17,
   "id": "4a84e58a-d3d9-4a98-9a5f-391b1349e428",
   "metadata": {},
   "outputs": [],
   "source": [
    "def get_publication_year(xml_bytes: bytes) -> str | None:\n",
    "    \"\"\"\n",
    "    Extract the publication year from the XML content.\n",
    "    Args:\n",
    "        xml_bytes (bytes): The XML content as bytes.\n",
    "    Returns:\n",
    "        str | None: The publication year, or None if not found.\n",
    "    \"\"\"\n",
    "    root = ET.fromstring(xml_bytes)\n",
    "    elem = root.find(\".//pub-date/year\")\n",
    "    return elem.text.strip() if elem is not None and elem.text else None"
   ]
  },
  {
   "cell_type": "code",
   "execution_count": 18,
   "id": "8918d999-60a6-4f34-8fdd-7351bf983cb9",
   "metadata": {},
   "outputs": [
    {
     "name": "stderr",
     "output_type": "stream",
     "text": [
      "100%|██████████| 607/607 [00:01<00:00, 504.23it/s]\n"
     ]
    }
   ],
   "source": [
    "df[\"publication_year\"] = df[\"xml\"].progress_apply(get_publication_year)"
   ]
  },
  {
   "cell_type": "code",
   "execution_count": 19,
   "id": "e5cde3f2-ee05-4ffc-8e12-a61c1ae1a535",
   "metadata": {},
   "outputs": [
    {
     "data": {
      "text/plain": [
       "publication_year\n",
       "2024    78\n",
       "2021    57\n",
       "2022    55\n",
       "2020    53\n",
       "2023    52\n",
       "2018    44\n",
       "2017    41\n",
       "2019    38\n",
       "2015    35\n",
       "2016    32\n",
       "2013    30\n",
       "2025    29\n",
       "2014    23\n",
       "2011    15\n",
       "2012    14\n",
       "2010    11\n",
       "Name: count, dtype: int64"
      ]
     },
     "execution_count": 19,
     "metadata": {},
     "output_type": "execute_result"
    }
   ],
   "source": [
    "df[\"publication_year\"].value_counts()"
   ]
  },
  {
   "cell_type": "markdown",
   "id": "1cd58031-dc17-40f4-b566-adf8937594ea",
   "metadata": {},
   "source": [
    "# Save file"
   ]
  },
  {
   "cell_type": "code",
   "execution_count": 20,
   "id": "d2b05b85-e7b2-4e63-b3d1-32b86e12b8d2",
   "metadata": {},
   "outputs": [
    {
     "data": {
      "text/html": [
       "<div>\n",
       "<style scoped>\n",
       "    .dataframe tbody tr th:only-of-type {\n",
       "        vertical-align: middle;\n",
       "    }\n",
       "\n",
       "    .dataframe tbody tr th {\n",
       "        vertical-align: top;\n",
       "    }\n",
       "\n",
       "    .dataframe thead th {\n",
       "        text-align: right;\n",
       "    }\n",
       "</style>\n",
       "<table border=\"1\" class=\"dataframe\">\n",
       "  <thead>\n",
       "    <tr style=\"text-align: right;\">\n",
       "      <th></th>\n",
       "      <th>Title</th>\n",
       "      <th>Link</th>\n",
       "      <th>pmc</th>\n",
       "      <th>xml</th>\n",
       "      <th>article_type</th>\n",
       "      <th>language</th>\n",
       "      <th>journal</th>\n",
       "      <th>publisher</th>\n",
       "      <th>publication_year</th>\n",
       "    </tr>\n",
       "  </thead>\n",
       "  <tbody>\n",
       "    <tr>\n",
       "      <th>0</th>\n",
       "      <td>Mice in Bion-M 1 space mission: training and s...</td>\n",
       "      <td>https://www.ncbi.nlm.nih.gov/pmc/articles/PMC4...</td>\n",
       "      <td>4136787</td>\n",
       "      <td>b'&lt;?xml version=\"1.0\"  ?&gt;&lt;!DOCTYPE pmc-article...</td>\n",
       "      <td>research article</td>\n",
       "      <td>en</td>\n",
       "      <td>PLoS ONE</td>\n",
       "      <td>PLOS</td>\n",
       "      <td>2014</td>\n",
       "    </tr>\n",
       "    <tr>\n",
       "      <th>1</th>\n",
       "      <td>Microgravity induces pelvic bone loss through ...</td>\n",
       "      <td>https://www.ncbi.nlm.nih.gov/pmc/articles/PMC3...</td>\n",
       "      <td>3630201</td>\n",
       "      <td>b'&lt;?xml version=\"1.0\"  ?&gt;&lt;!DOCTYPE pmc-article...</td>\n",
       "      <td>research article</td>\n",
       "      <td>en</td>\n",
       "      <td>PLoS ONE</td>\n",
       "      <td>PLOS</td>\n",
       "      <td>2013</td>\n",
       "    </tr>\n",
       "    <tr>\n",
       "      <th>2</th>\n",
       "      <td>Stem Cell Health and Tissue Regeneration in Mi...</td>\n",
       "      <td>https://www.ncbi.nlm.nih.gov/pmc/articles/PMC1...</td>\n",
       "      <td>11988870</td>\n",
       "      <td>b'&lt;?xml version=\"1.0\"  ?&gt;&lt;!DOCTYPE pmc-article...</td>\n",
       "      <td>review article</td>\n",
       "      <td>en</td>\n",
       "      <td>International Journal of Molecular Sciences</td>\n",
       "      <td>Multidisciplinary Digital Publishing Institute...</td>\n",
       "      <td>2025</td>\n",
       "    </tr>\n",
       "    <tr>\n",
       "      <th>3</th>\n",
       "      <td>Microgravity Reduces the Differentiation and R...</td>\n",
       "      <td>https://www.ncbi.nlm.nih.gov/pmc/articles/PMC7...</td>\n",
       "      <td>7998608</td>\n",
       "      <td>b'&lt;?xml version=\"1.0\"  ?&gt;&lt;!DOCTYPE pmc-article...</td>\n",
       "      <td>research article</td>\n",
       "      <td>en</td>\n",
       "      <td>Cells</td>\n",
       "      <td>Multidisciplinary Digital Publishing Institute...</td>\n",
       "      <td>2021</td>\n",
       "    </tr>\n",
       "    <tr>\n",
       "      <th>4</th>\n",
       "      <td>Microgravity validation of a novel system for ...</td>\n",
       "      <td>https://www.ncbi.nlm.nih.gov/pmc/articles/PMC5...</td>\n",
       "      <td>5587110</td>\n",
       "      <td>b'&lt;?xml version=\"1.0\"  ?&gt;&lt;!DOCTYPE pmc-article...</td>\n",
       "      <td>research article</td>\n",
       "      <td>en</td>\n",
       "      <td>PLoS ONE</td>\n",
       "      <td>PLOS</td>\n",
       "      <td>2017</td>\n",
       "    </tr>\n",
       "  </tbody>\n",
       "</table>\n",
       "</div>"
      ],
      "text/plain": [
       "                                               Title  \\\n",
       "0  Mice in Bion-M 1 space mission: training and s...   \n",
       "1  Microgravity induces pelvic bone loss through ...   \n",
       "2  Stem Cell Health and Tissue Regeneration in Mi...   \n",
       "3  Microgravity Reduces the Differentiation and R...   \n",
       "4  Microgravity validation of a novel system for ...   \n",
       "\n",
       "                                                Link       pmc  \\\n",
       "0  https://www.ncbi.nlm.nih.gov/pmc/articles/PMC4...   4136787   \n",
       "1  https://www.ncbi.nlm.nih.gov/pmc/articles/PMC3...   3630201   \n",
       "2  https://www.ncbi.nlm.nih.gov/pmc/articles/PMC1...  11988870   \n",
       "3  https://www.ncbi.nlm.nih.gov/pmc/articles/PMC7...   7998608   \n",
       "4  https://www.ncbi.nlm.nih.gov/pmc/articles/PMC5...   5587110   \n",
       "\n",
       "                                                 xml      article_type  \\\n",
       "0  b'<?xml version=\"1.0\"  ?><!DOCTYPE pmc-article...  research article   \n",
       "1  b'<?xml version=\"1.0\"  ?><!DOCTYPE pmc-article...  research article   \n",
       "2  b'<?xml version=\"1.0\"  ?><!DOCTYPE pmc-article...    review article   \n",
       "3  b'<?xml version=\"1.0\"  ?><!DOCTYPE pmc-article...  research article   \n",
       "4  b'<?xml version=\"1.0\"  ?><!DOCTYPE pmc-article...  research article   \n",
       "\n",
       "  language                                      journal  \\\n",
       "0       en                                     PLoS ONE   \n",
       "1       en                                     PLoS ONE   \n",
       "2       en  International Journal of Molecular Sciences   \n",
       "3       en                                        Cells   \n",
       "4       en                                     PLoS ONE   \n",
       "\n",
       "                                           publisher publication_year  \n",
       "0                                               PLOS             2014  \n",
       "1                                               PLOS             2013  \n",
       "2  Multidisciplinary Digital Publishing Institute...             2025  \n",
       "3  Multidisciplinary Digital Publishing Institute...             2021  \n",
       "4                                               PLOS             2017  "
      ]
     },
     "execution_count": 20,
     "metadata": {},
     "output_type": "execute_result"
    }
   ],
   "source": [
    "df.head()"
   ]
  },
  {
   "cell_type": "code",
   "execution_count": 21,
   "id": "4e299c80-7671-4fa5-9a73-a9647c572595",
   "metadata": {},
   "outputs": [],
   "source": [
    "df = df.drop(columns=\"xml\")"
   ]
  },
  {
   "cell_type": "code",
   "execution_count": 22,
   "id": "395815b2-2d46-44ac-91b3-a4410c29e503",
   "metadata": {},
   "outputs": [],
   "source": [
    "df.to_csv(OUTPUT_FILE, index=False, encoding=\"utf-8\", sep=\"|\")"
   ]
  }
 ],
 "metadata": {
  "kernelspec": {
   "display_name": "nasa-space-biology-knowledge-engine",
   "language": "python",
   "name": "python3"
  },
  "language_info": {
   "codemirror_mode": {
    "name": "ipython",
    "version": 3
   },
   "file_extension": ".py",
   "mimetype": "text/x-python",
   "name": "python",
   "nbconvert_exporter": "python",
   "pygments_lexer": "ipython3",
   "version": "3.11.11"
  }
 },
 "nbformat": 4,
 "nbformat_minor": 5
}
