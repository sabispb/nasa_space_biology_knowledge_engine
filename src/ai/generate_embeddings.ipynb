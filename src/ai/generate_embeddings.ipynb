{
 "cells": [
  {
   "cell_type": "code",
   "execution_count": null,
   "id": "e8d7d0d9",
   "metadata": {},
   "outputs": [],
   "source": [
    "cd ../.."
   ]
  },
  {
   "cell_type": "code",
   "execution_count": null,
   "id": "6874d597",
   "metadata": {},
   "outputs": [],
   "source": [
    "import numpy as np\n",
    "import pandas as pd\n",
    "import chromadb\n",
    "\n",
    "from chromadb.utils import embedding_functions\n"
   ]
  },
  {
   "cell_type": "markdown",
   "id": "054f3a37",
   "metadata": {},
   "source": [
    "# Settings"
   ]
  },
  {
   "cell_type": "code",
   "execution_count": null,
   "id": "54dcd19d",
   "metadata": {},
   "outputs": [],
   "source": [
    "TEXTS_FILE = \"data/SB_publication_PMC_texts.parquet\"\n",
    "CHROMADB_PATH = \"data/chroma\"\n",
    "OUTPUT_FILE = \"data/SB_publication_PMC_recommendations.csv\""
   ]
  },
  {
   "cell_type": "markdown",
   "id": "e0dfd51b",
   "metadata": {},
   "source": [
    "# Read data"
   ]
  },
  {
   "cell_type": "code",
   "execution_count": null,
   "id": "eb5d2c70",
   "metadata": {},
   "outputs": [],
   "source": [
    "data = pd.read_parquet(TEXTS_FILE)\n",
    "data.head()"
   ]
  },
  {
   "cell_type": "markdown",
   "id": "99ba88cd",
   "metadata": {},
   "source": [
    "# Create vector database"
   ]
  },
  {
   "cell_type": "code",
   "execution_count": null,
   "id": "63aca78e",
   "metadata": {},
   "outputs": [],
   "source": [
    "client = chromadb.PersistentClient(path=CHROMADB_PATH)"
   ]
  },
  {
   "cell_type": "code",
   "execution_count": null,
   "id": "7482b8f0",
   "metadata": {},
   "outputs": [],
   "source": [
    "embedder = embedding_functions.SentenceTransformerEmbeddingFunction(model_name=\"all-MiniLM-L6-v2\")"
   ]
  },
  {
   "cell_type": "code",
   "execution_count": null,
   "id": "e296d4c5",
   "metadata": {},
   "outputs": [],
   "source": [
    "def chunk_text(text, chunk_size=512, overlap=64):\n",
    "    words = text.split()\n",
    "    chunks = []\n",
    "    for i in range(0, len(words), chunk_size - overlap):\n",
    "        chunk = \" \".join(words[i:i + chunk_size])\n",
    "        if chunk:\n",
    "            chunks.append(chunk)\n",
    "    return chunks"
   ]
  },
  {
   "cell_type": "code",
   "execution_count": null,
   "id": "6d9cc734",
   "metadata": {},
   "outputs": [],
   "source": [
    "collection = client.create_collection(\"publications\")"
   ]
  },
  {
   "cell_type": "code",
   "execution_count": null,
   "id": "a4e9503e",
   "metadata": {},
   "outputs": [],
   "source": [
    "for idx, row in data.iterrows():\n",
    "    pmc = row['pmc']\n",
    "    # Index title\n",
    "    collection.add(\n",
    "        documents=[row[\"title\"]],\n",
    "        metadatas=[{\"pmc\": pmc, \"type\": \"title\"}],\n",
    "        ids=[f\"{pmc}_title\"]\n",
    "    )\n",
    "    # Index abstract\n",
    "    collection.add(\n",
    "        documents=[row['abstract']],\n",
    "        metadatas=[{\"pmc\": pmc, \"type\": \"abstract\"}],\n",
    "        ids=[f\"{pmc}_abstract\"]\n",
    "    )\n",
    "    # Index text in chunks\n",
    "    for j, chunk in enumerate(chunk_text(row[\"text\"])):\n",
    "        collection.add(\n",
    "            documents=[chunk],\n",
    "            metadatas=[{\"pmc\": pmc, \"type\": \"text_chunk\", \"chunk_id\": j}],\n",
    "            ids=[f\"{pmc}_text_{j}\"]\n",
    "        )"
   ]
  },
  {
   "cell_type": "markdown",
   "id": "af93c2ef",
   "metadata": {},
   "source": [
    "# Find similar articles per PMC"
   ]
  },
  {
   "cell_type": "code",
   "execution_count": null,
   "id": "c6306b0d",
   "metadata": {},
   "outputs": [],
   "source": [
    "# Get the collection\n",
    "collection = client.get_collection(name=\"publications\")\n",
    "\n",
    "# Get all pmc ids\n",
    "all_pmcs = data['pmc'].astype(str).tolist()\n",
    "\n",
    "# Gather all embeddings for each pmc (using only text_chunks for better representation)\n",
    "pmc_embeddings = {}\n",
    "for pmc in all_pmcs:\n",
    "    # Query all text_chunks for this pmc\n",
    "    results = collection.get(\n",
    "        where={\"pmc\": pmc},\n",
    "        include=[\"embeddings\"]\n",
    "    )\n",
    "    # Some pmcs may not have text_chunks, skip them\n",
    "    if results[\"embeddings\"] is not None and len(results[\"embeddings\"]) > 0:\n",
    "        embeddings = np.array(results[\"embeddings\"])\n",
    "        pmc_embeddings[pmc] = embeddings\n",
    "\n",
    "# Calculate mean embedding for each pmc\n",
    "pmc_mean_embeddings = {pmc: emb.mean(axis=0) for pmc, emb in pmc_embeddings.items()}\n",
    "\n",
    "# Stack all mean embeddings for distance calculation\n",
    "pmc_ids = list(pmc_mean_embeddings.keys())\n",
    "mean_emb_matrix = np.stack([pmc_mean_embeddings[pmc] for pmc in pmc_ids])\n",
    "\n",
    "# Calculate the mean embedding of all pmcs\n",
    "global_mean_embedding = mean_emb_matrix.mean(axis=0)\n",
    "\n",
    "# Compute cosine similarity to the global mean embedding\n",
    "def cosine_similarity(a, b):\n",
    "    a = a / np.linalg.norm(a)\n",
    "    b = b / np.linalg.norm(b)\n",
    "    return np.dot(a, b)\n",
    "\n",
    "similarities = [cosine_similarity(global_mean_embedding, emb) for emb in mean_emb_matrix]\n",
    "\n",
    "# Get top 5 pmcs closest to the global mean embedding\n",
    "top5_indices = np.argsort(similarities)[-5:][::-1]\n",
    "top5_pmcs = [pmc_ids[i] for i in top5_indices]"
   ]
  },
  {
   "cell_type": "code",
   "execution_count": null,
   "id": "b4b9915b",
   "metadata": {},
   "outputs": [],
   "source": [
    "# Compute top 5 closest pmcs for each pmc based on cosine similarity of mean embeddings\n",
    "top5_similar_pmcs = {}\n",
    "\n",
    "for i, pmc_id in enumerate(pmc_ids):\n",
    "    emb = pmc_mean_embeddings[pmc_id]\n",
    "    # Compute cosine similarity to all other pmcs\n",
    "    sims = [cosine_similarity(emb, mean_emb_matrix[j]) for j in range(len(pmc_ids))]\n",
    "    # Exclude self by setting its similarity to -inf\n",
    "    sims[i] = float('-inf')\n",
    "    # Get indices of top 5 most similar pmcs\n",
    "    top5_idx = np.argsort(sims)[-5:][::-1]\n",
    "    top5_similar_pmcs[pmc_id] = [pmc_ids[j] for j in top5_idx]"
   ]
  },
  {
   "cell_type": "code",
   "execution_count": null,
   "id": "6f12f216",
   "metadata": {},
   "outputs": [],
   "source": [
    "# Create a copy of data without 'abstract' and 'text' columns\n",
    "data_similar = data.drop(columns=['abstract', 'text']).copy()\n",
    "\n",
    "# Prepare a list to hold new rows\n",
    "rows = []\n",
    "\n",
    "for pmc_id in data_similar['pmc']:\n",
    "    # Get top 5 similar pmcs for this pmc_id\n",
    "    similar_pmcs = top5_similar_pmcs.get(str(pmc_id), [])\n",
    "    for rank, rec_pmc in enumerate(similar_pmcs[:5], 1):\n",
    "        # Get the recommended title\n",
    "        rec_title = data.loc[data['pmc'] == rec_pmc, 'title']\n",
    "        rec_title = rec_title.iloc[0] if not rec_title.empty else \"\"\n",
    "        # Get the original row as dict, skip 'abstract' and 'text'\n",
    "        base_row = data_similar.loc[data_similar['pmc'] == pmc_id].iloc[0].to_dict()\n",
    "        # Add recommendation info\n",
    "        base_row.update({\n",
    "            'recommended_rank': rank,\n",
    "            'recommended_pmc': rec_pmc,\n",
    "            'recommended_title': rec_title\n",
    "        })\n",
    "        rows.append(base_row)\n",
    "\n",
    "# Create the new dataframe\n",
    "data_similar = pd.DataFrame(rows)"
   ]
  },
  {
   "cell_type": "code",
   "execution_count": null,
   "id": "0d737d5c",
   "metadata": {},
   "outputs": [],
   "source": [
    "data_similar = data_similar.merge(data[[\"title\", \"link\"]].rename(columns={\"title\": \"recommended_title\", \"link\": \"recommended_link\"}), how=\"left\", on=\"recommended_title\")\n",
    "data_similar.head()"
   ]
  },
  {
   "cell_type": "code",
   "execution_count": null,
   "id": "a8a0ad96",
   "metadata": {},
   "outputs": [],
   "source": [
    "data_similar.to_csv(OUTPUT_FILE, index=False, encoding=\"utf-8\", sep=\"|\")"
   ]
  }
 ],
 "metadata": {
  "kernelspec": {
   "display_name": "nasa-space-biology-knowledge-engine",
   "language": "python",
   "name": "python3"
  },
  "language_info": {
   "codemirror_mode": {
    "name": "ipython",
    "version": 3
   },
   "file_extension": ".py",
   "mimetype": "text/x-python",
   "name": "python",
   "nbconvert_exporter": "python",
   "pygments_lexer": "ipython3",
   "version": "3.11.11"
  }
 },
 "nbformat": 4,
 "nbformat_minor": 5
}
