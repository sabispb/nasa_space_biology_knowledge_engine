{
 "cells": [
  {
   "cell_type": "markdown",
   "id": "438498ec",
   "metadata": {},
   "source": [
    "## Import libraries"
   ]
  },
  {
   "cell_type": "code",
   "execution_count": null,
   "id": "63f8209b",
   "metadata": {},
   "outputs": [],
   "source": [
    "import pandas as pd\n",
    "from tqdm import tqdm\n",
    "tqdm.pandas()\n",
    "\n",
    "import torch\n",
    "from transformers import AutoTokenizer, AutoModelForSeq2SeqLM"
   ]
  },
  {
   "cell_type": "markdown",
   "id": "afa116ea",
   "metadata": {},
   "source": [
    "## Import data"
   ]
  },
  {
   "cell_type": "code",
   "execution_count": null,
   "id": "15420711",
   "metadata": {},
   "outputs": [],
   "source": [
    "INPUT_FILE = '../../data/SB_publication_PMC_texts.parquet'\n",
    "OUTPUT_FILE = '../../data/SB_publication_PMC_texts_simplified.parquet'"
   ]
  },
  {
   "cell_type": "code",
   "execution_count": null,
   "id": "4b931ed7",
   "metadata": {},
   "outputs": [],
   "source": [
    "df_texts = pd.read_parquet(INPUT_FILE)\n",
    "df_texts.head()"
   ]
  },
  {
   "cell_type": "markdown",
   "id": "480c0a97",
   "metadata": {},
   "source": [
    "# MODEL"
   ]
  },
  {
   "cell_type": "markdown",
   "id": "39d51f4c",
   "metadata": {},
   "source": [
    "## Load model and instruction"
   ]
  },
  {
   "cell_type": "markdown",
   "id": "89c335cd",
   "metadata": {},
   "source": [
    "#### Model: haining/scientific_abstract_simplification"
   ]
  },
  {
   "cell_type": "code",
   "execution_count": null,
   "id": "cb6c8d4e",
   "metadata": {},
   "outputs": [],
   "source": [
    "INSTRUCTION = \"summarize, simplify, and contextualize: \"\n",
    "tokenizer = AutoTokenizer.from_pretrained(\"haining/scientific_abstract_simplification\")\n",
    "model = AutoModelForSeq2SeqLM.from_pretrained(\"haining/scientific_abstract_simplification\")"
   ]
  },
  {
   "cell_type": "markdown",
   "id": "65468e1c",
   "metadata": {},
   "source": [
    "## Apply model and save file"
   ]
  },
  {
   "cell_type": "code",
   "execution_count": null,
   "id": "a39fdb27",
   "metadata": {},
   "outputs": [],
   "source": [
    "def simplify_text_safe(text):\n",
    "    \"\"\"\n",
    "    Simplifies text using a pre-trained model if:\n",
    "      - it is not NaN\n",
    "      - minimum length of 300 characters (after stripping whitespace)\n",
    "    If not, returns an empty string.\n",
    "    \"\"\"\n",
    "    if not isinstance(text, str):\n",
    "        return \"\"\n",
    "    if len(text.strip()) < 300:\n",
    "        return \"\"\n",
    "\n",
    "    try:\n",
    "        encoding = tokenizer(INSTRUCTION + text,\n",
    "                             max_length=672,\n",
    "                             padding='max_length',\n",
    "                             truncation=True,\n",
    "                             return_tensors='pt')\n",
    "        decoded_ids = model.generate(\n",
    "            input_ids=encoding['input_ids'],\n",
    "            attention_mask=encoding['attention_mask'],\n",
    "            max_length=512,\n",
    "            top_p=0.9,\n",
    "            do_sample=True\n",
    "        )\n",
    "        return tokenizer.decode(decoded_ids[0], skip_special_tokens=True)\n",
    "    except Exception as e:\n",
    "        print(f\"⚠️ Error simplifying text: {e}\")\n",
    "        return \"\""
   ]
  },
  {
   "cell_type": "code",
   "execution_count": null,
   "id": "ef65bb14",
   "metadata": {},
   "outputs": [],
   "source": [
    "df_texts['simplified_abstract'] = df_texts['abstract'].progress_apply(simplify_text_safe)\n",
    "df_texts.to_parquet(OUTPUT_FILE, index=False)"
   ]
  }
 ],
 "metadata": {
  "kernelspec": {
   "display_name": "nasa-space-biology-knowledge-engine",
   "language": "python",
   "name": "python3"
  },
  "language_info": {
   "codemirror_mode": {
    "name": "ipython",
    "version": 3
   },
   "file_extension": ".py",
   "mimetype": "text/x-python",
   "name": "python",
   "nbconvert_exporter": "python",
   "pygments_lexer": "ipython3",
   "version": "3.11.13"
  }
 },
 "nbformat": 4,
 "nbformat_minor": 5
}
