{
 "cells": [
  {
   "cell_type": "code",
   "execution_count": null,
   "id": "35cfe645",
   "metadata": {},
   "outputs": [],
   "source": [
    "cd ../.."
   ]
  },
  {
   "cell_type": "code",
   "execution_count": null,
   "id": "29ef67a1",
   "metadata": {},
   "outputs": [],
   "source": [
    "import chromadb\n",
    "import pandas as pd"
   ]
  },
  {
   "cell_type": "code",
   "execution_count": null,
   "id": "bd4e1019",
   "metadata": {},
   "outputs": [],
   "source": [
    "CHROMADB_PATH = \"data/chroma\"\n",
    "DATA_FILE = \"data/SB_publication_PMC_data.csv\""
   ]
  },
  {
   "cell_type": "code",
   "execution_count": null,
   "id": "e0cbd78c",
   "metadata": {},
   "outputs": [],
   "source": [
    "data = pd.read_csv(DATA_FILE, sep=\"|\")"
   ]
  },
  {
   "cell_type": "code",
   "execution_count": null,
   "id": "9b02f0e6",
   "metadata": {},
   "outputs": [],
   "source": [
    "client = chromadb.PersistentClient(path=CHROMADB_PATH)"
   ]
  },
  {
   "cell_type": "code",
   "execution_count": null,
   "id": "f0427eab",
   "metadata": {},
   "outputs": [],
   "source": [
    "def retrieve_similar_documents(query, n_results=10):\n",
    "    collection = client.get_collection(name=\"publications\")\n",
    "    results = collection.query(query_texts=[query], n_results=100)\n",
    "    pmcs = []\n",
    "    seen = set()\n",
    "    for meta in results[\"metadatas\"][0]:\n",
    "        pmc = meta[\"pmc\"]\n",
    "        if pmc not in seen:\n",
    "            pmcs.append(pmc)\n",
    "            seen.add(pmc)\n",
    "        if len(pmcs) == n_results:\n",
    "            break\n",
    "    return pmcs"
   ]
  },
  {
   "cell_type": "code",
   "execution_count": null,
   "id": "78907cca",
   "metadata": {},
   "outputs": [],
   "source": [
    "test_query = \"phisics of microgravity\"\n",
    "similar_pmcs = retrieve_similar_documents(test_query, n_results=10)\n",
    "similar_pmcs = [int(pmc) for pmc in similar_pmcs]\n",
    "data_filtered = data[data[\"pmc\"].isin(similar_pmcs)].reset_index(drop=True)"
   ]
  },
  {
   "cell_type": "code",
   "execution_count": null,
   "id": "5f25fb73",
   "metadata": {},
   "outputs": [],
   "source": [
    "data_filtered.head(10)"
   ]
  }
 ],
 "metadata": {
  "kernelspec": {
   "display_name": "nasa-space-biology-knowledge-engine",
   "language": "python",
   "name": "python3"
  },
  "language_info": {
   "codemirror_mode": {
    "name": "ipython",
    "version": 3
   },
   "file_extension": ".py",
   "mimetype": "text/x-python",
   "name": "python",
   "nbconvert_exporter": "python",
   "pygments_lexer": "ipython3",
   "version": "3.11.11"
  }
 },
 "nbformat": 4,
 "nbformat_minor": 5
}
