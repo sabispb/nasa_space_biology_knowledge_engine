{
 "cells": [
  {
   "cell_type": "code",
   "execution_count": null,
   "id": "87d3d901-da56-4088-acc3-8f180e63fd39",
   "metadata": {},
   "outputs": [],
   "source": [
    "cd ../.."
   ]
  },
  {
   "cell_type": "code",
   "execution_count": null,
   "id": "5b8f6a3a-976f-48c8-813b-981e25bf98a4",
   "metadata": {},
   "outputs": [],
   "source": [
    "import pandas as pd\n",
    "import random\n",
    "import time\n",
    "\n",
    "from mistralai import Mistral\n",
    "from mistralai.models import SDKError\n",
    "from tqdm import tqdm\n",
    "\n",
    "tqdm.pandas()"
   ]
  },
  {
   "cell_type": "markdown",
   "id": "82d7ee26-a235-4e49-8716-0c7741c3b0d6",
   "metadata": {},
   "source": [
    "# Settings"
   ]
  },
  {
   "cell_type": "code",
   "execution_count": null,
   "id": "0d466103-ff71-4b36-af15-ee80095be901",
   "metadata": {},
   "outputs": [],
   "source": [
    "TEXTS_FILE = \"data/SB_publication_PMC_texts.parquet\"\n",
    "OUTPUT_FILE = \"data/SB_publication_PMC_texts_main_ideas.parquet\""
   ]
  },
  {
   "cell_type": "markdown",
   "id": "a40241c6-cf09-49a6-9665-0828a7dca093",
   "metadata": {},
   "source": [
    "# Read texts file"
   ]
  },
  {
   "cell_type": "code",
   "execution_count": null,
   "id": "c16a40d9-45fa-4c91-bb8a-17940bc29350",
   "metadata": {},
   "outputs": [],
   "source": [
    "texts = pd.read_parquet(TEXTS_FILE)\n",
    "texts.head()"
   ]
  },
  {
   "cell_type": "code",
   "execution_count": null,
   "id": "9ccf1d05-a58d-4cad-b715-a351f14f3eba",
   "metadata": {},
   "outputs": [],
   "source": [
    "texts[\"len\"] = texts[\"text\"].apply(len)"
   ]
  },
  {
   "cell_type": "code",
   "execution_count": null,
   "id": "0a388bfb-aae1-4e7a-b271-34a052527d70",
   "metadata": {},
   "outputs": [],
   "source": [
    "MIN_LEN = 20_000\n",
    "texts_long = texts.copy()\n",
    "texts_long = texts_long[texts_long[\"len\"] > MIN_LEN].reset_index(drop=True)\n",
    "texts_long = texts_long[[\"title\", \"text\"]]"
   ]
  },
  {
   "cell_type": "markdown",
   "id": "5e461703-7fe6-4c88-a0c8-e71394136bb6",
   "metadata": {},
   "source": [
    "# Generate main ideas"
   ]
  },
  {
   "cell_type": "code",
   "execution_count": null,
   "id": "be5200c1-bbd0-4ba2-a37a-4789b0101e5f",
   "metadata": {},
   "outputs": [],
   "source": [
    "model = \"magistral-small-latest\"\n",
    "api_key = \"\"\n",
    "\n",
    "client = Mistral(api_key=api_key)\n",
    "\n",
    "def call_model(query: str) -> str:\n",
    "  chat_response = client.chat.complete(\n",
    "  model = model,\n",
    "  messages = [{\"role\": \"user\", \"content\": query}])\n",
    "  return chat_response.choices[0].message.content[-1].text\n",
    "\n",
    "def safe_call_model(prompt, max_retries=5):\n",
    "    for attempt in range(max_retries):\n",
    "        try:\n",
    "            return call_model(prompt)\n",
    "        except SDKError as e:\n",
    "            if \"rate limit\" in str(e).lower():\n",
    "                sleep_time = 60 + random.random()\n",
    "                print(f\"Rate limit hit. Sleeping for {sleep_time:.1f}s...\")\n",
    "                time.sleep(sleep_time)\n",
    "            else:\n",
    "                raise\n",
    "    raise RuntimeError(\"Max retries exceeded due to rate limiting\")"
   ]
  },
  {
   "cell_type": "code",
   "execution_count": null,
   "id": "b97c2bad-a89b-4ccf-b208-c0a89670a0e2",
   "metadata": {},
   "outputs": [],
   "source": [
    "system_prompt = \"\"\"\n",
    "Exploring the Moon and Mars safely and efficiently requires understanding how humans, plants, and other living systems respond to the space environment. NASA’s Biological and Physical Sciences Division (BPS) funds research to address key scientific questions that enable future human exploration. These in-space experiments have produced numerous discoveries that inform mission planning, risk assessment, and technology development.\n",
    "\n",
    "However, the vast number of publications describing these studies makes it difficult to grasp the overall progress, identify research gaps, or extract actionable insights. Modern approaches in AI and informatics can help summarize and organize this information more effectively.\n",
    "\n",
    "Your task:\n",
    "- You will receive a scientific article related to space biology or physical sciences in space. Read it carefully and produce a concise summary of its key ideas.\n",
    "\n",
    "Output requirements:\n",
    "- Output with 3 sections: Goal, Methodology and Conclusions.\n",
    "- 1 sentence per section.\n",
    "- No overall title.\n",
    "\n",
    "Write in a tone suitable for:\n",
    "- Scientists developing new hypotheses\n",
    "- NASA program managers identifying research opportunities\n",
    "- Mission architects designing safe and efficient Moon/Mars exploration strategies.\n",
    "\n",
    "Output example:\n",
    "\n",
    "- **Goal**: blah blah blah\n",
    "- **Methodology**: blah blah blah\n",
    "- **Conclusions**: blah blah blah\n",
    "\n",
    "ARTICLE TO REVIEW:\n",
    "\n",
    "\"\"\""
   ]
  },
  {
   "cell_type": "code",
   "execution_count": null,
   "id": "7057cf37-a5f2-4d9d-bbc3-303d2be63e2c",
   "metadata": {},
   "outputs": [],
   "source": [
    "texts_long[\"main_ideas\"] = texts_long[\"text\"].progress_apply(lambda x: safe_call_model(system_prompt + x))\n",
    "texts_long.head()"
   ]
  },
  {
   "cell_type": "code",
   "execution_count": null,
   "id": "11bfc55e-2e2c-4685-ba0a-fd05cf2125bd",
   "metadata": {},
   "outputs": [],
   "source": [
    "texts = texts.merge(texts_long, on=\"title\", how=\"left\").fillna(\"\")\n",
    "texts.head()"
   ]
  },
  {
   "cell_type": "code",
   "execution_count": null,
   "id": "031b613c-5e47-4640-ae11-f1d9822b7363",
   "metadata": {},
   "outputs": [],
   "source": [
    "texts.to_parquet(OUTPUT_FILE)"
   ]
  }
 ],
 "metadata": {
  "kernelspec": {
   "display_name": "nasa-space-biology-knowledge-engine",
   "language": "python",
   "name": "python3"
  },
  "language_info": {
   "codemirror_mode": {
    "name": "ipython",
    "version": 3
   },
   "file_extension": ".py",
   "mimetype": "text/x-python",
   "name": "python",
   "nbconvert_exporter": "python",
   "pygments_lexer": "ipython3",
   "version": "3.11.11"
  }
 },
 "nbformat": 4,
 "nbformat_minor": 5
}
