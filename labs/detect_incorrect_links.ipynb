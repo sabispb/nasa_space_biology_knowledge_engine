{
 "cells": [
  {
   "cell_type": "code",
   "execution_count": null,
   "id": "059ccc85-b084-423b-a2fc-40b942612698",
   "metadata": {},
   "outputs": [],
   "source": [
    "cd .."
   ]
  },
  {
   "cell_type": "code",
   "execution_count": null,
   "id": "b154ee1e-2306-4cff-abaa-7259e5e8961e",
   "metadata": {},
   "outputs": [],
   "source": [
    "import pandas as pd\n",
    "\n",
    "from tqdm import tqdm\n",
    "from xml.etree import ElementTree as ET\n",
    "\n",
    "tqdm.pandas()"
   ]
  },
  {
   "cell_type": "markdown",
   "id": "a1463930-404a-4da5-aaf6-615d91ac6c9a",
   "metadata": {},
   "source": [
    "# Settings"
   ]
  },
  {
   "cell_type": "code",
   "execution_count": null,
   "id": "352bbb5b-283a-4b29-9b9e-06408a1e7dfe",
   "metadata": {},
   "outputs": [],
   "source": [
    "DATA_FILE = \"data/SB_publication_PMC_with_xml.parquet\"\n",
    "OUTPUT_FILE = \"data/SB_publication_PMC_data.csv\""
   ]
  },
  {
   "cell_type": "markdown",
   "id": "9d7904c5-4381-491b-b65b-c745264a12ae",
   "metadata": {},
   "source": [
    "# Read data"
   ]
  },
  {
   "cell_type": "code",
   "execution_count": null,
   "id": "38f3fca3-ea96-442c-a62e-f4fe540f2b88",
   "metadata": {},
   "outputs": [],
   "source": [
    "df = pd.read_parquet(DATA_FILE)\n",
    "df.head()"
   ]
  },
  {
   "cell_type": "markdown",
   "id": "75c29582-f399-44f8-aca3-5a6c4b29a4e2",
   "metadata": {},
   "source": [
    "# Retrieve contents"
   ]
  },
  {
   "cell_type": "markdown",
   "id": "603a5626-d9a4-452b-a60f-0534b0224515",
   "metadata": {},
   "source": [
    "## Article type"
   ]
  },
  {
   "cell_type": "code",
   "execution_count": null,
   "id": "dfee88de-5283-463f-9901-248be0c37f87",
   "metadata": {
    "scrolled": true
   },
   "outputs": [],
   "source": [
    "from xml.etree import ElementTree as ET\n",
    "\n",
    "def get_article_title(xml_bytes: bytes) -> str | None:\n",
    "    \"\"\"\n",
    "    Extract the article title from the XML content, ignoring formatting tags\n",
    "    (e.g., <italic>, <bold>, <underline>), but keeping their inner text.\n",
    "\n",
    "    Args:\n",
    "        xml_bytes (bytes): The XML content as bytes.\n",
    "\n",
    "    Returns:\n",
    "        str | None: The cleaned article title, or None if not found.\n",
    "    \"\"\"\n",
    "    root = ET.fromstring(xml_bytes)\n",
    "    title_elem = root.find(\".//article-title\")\n",
    "\n",
    "    if title_elem is None:\n",
    "        return None\n",
    "\n",
    "    # Join all inner text (drops tags but keeps their text content)\n",
    "    title_text = \"\".join(title_elem.itertext()).strip()\n",
    "\n",
    "    # Normalize whitespace\n",
    "    return \" \".join(title_text.split())"
   ]
  },
  {
   "cell_type": "code",
   "execution_count": null,
   "id": "5dd2b13a-290f-40f8-a634-d2cadb33958c",
   "metadata": {
    "scrolled": true
   },
   "outputs": [],
   "source": [
    "df[\"title_extracted\"] = df[\"xml\"].progress_apply(get_article_title)"
   ]
  },
  {
   "cell_type": "code",
   "execution_count": null,
   "id": "d3561bec-2981-4b83-94b0-6c027062310d",
   "metadata": {},
   "outputs": [],
   "source": [
    "import re\n",
    "\n",
    "# Greek letter mapping\n",
    "greek_map = {\n",
    "    'α': 'alpha', 'β': 'beta', 'γ': 'gamma', 'δ': 'delta', 'ε': 'epsilon',\n",
    "    'ζ': 'zeta', 'η': 'eta', 'θ': 'theta', 'ι': 'iota', 'κ': 'kappa',\n",
    "    'λ': 'lambda', 'μ': 'mu', 'ν': 'nu', 'ξ': 'xi', 'ο': 'omicron',\n",
    "    'π': 'pi', 'ρ': 'rho', 'σ': 'sigma', 'τ': 'tau', 'υ': 'upsilon',\n",
    "    'φ': 'phi', 'χ': 'chi', 'ψ': 'psi', 'ω': 'omega',\n",
    "    'Α': 'alpha', 'Β': 'beta', 'Γ': 'gamma', 'Δ': 'delta', 'Ε': 'epsilon',\n",
    "    'Ζ': 'zeta', 'Η': 'eta', 'Θ': 'theta', 'Ι': 'iota', 'Κ': 'kappa',\n",
    "    'Λ': 'lambda', 'Μ': 'mu', 'Ν': 'nu', 'Ξ': 'xi', 'Ο': 'omicron',\n",
    "    'Π': 'pi', 'Ρ': 'rho', 'Σ': 'sigma', 'Τ': 'tau', 'Υ': 'upsilon',\n",
    "    'Φ': 'phi', 'Χ': 'chi', 'Ψ': 'psi', 'Ω': 'omega'\n",
    "}\n",
    "\n",
    "def clean_title(s: str) -> str:\n",
    "    if not isinstance(s, str):\n",
    "        return ''\n",
    "    \n",
    "    # Replace Greek letters\n",
    "    for greek, latin in greek_map.items():\n",
    "        s = s.replace(greek, latin)\n",
    "    \n",
    "    # Remove anything inside [brackets]\n",
    "    s = re.sub(r'\\[.*?\\]', '', s)\n",
    "    \n",
    "    # Remove unwanted phrases\n",
    "    s = re.sub(r'Author Correction:', '', s, flags=re.IGNORECASE)\n",
    "    \n",
    "    # Lowercase and keep only letters\n",
    "    s = s.lower()\n",
    "    s = re.sub(r'[^a-z]', '', s)\n",
    "    \n",
    "    return s\n",
    "\n",
    "# Compare cleaned titles\n",
    "df[\"incorrect_title\"] = df.apply(\n",
    "    lambda row: clean_title(row[\"Title\"]) != clean_title(row[\"title_extracted\"]),\n",
    "    axis=1\n",
    ")"
   ]
  },
  {
   "cell_type": "code",
   "execution_count": null,
   "id": "baef0a1b-30db-4037-a7f6-22ba7c5d0695",
   "metadata": {},
   "outputs": [],
   "source": [
    "df[\"incorrect_title\"].sum()"
   ]
  },
  {
   "cell_type": "code",
   "execution_count": null,
   "id": "9477528f-3d82-4db7-a164-08593e3fa58a",
   "metadata": {},
   "outputs": [],
   "source": [
    "incorrect = df[df[\"incorrect_title\"]][[\"pmc\", \"Title\", \"title_extracted\"]]\n",
    "incorrect"
   ]
  },
  {
   "cell_type": "code",
   "execution_count": null,
   "id": "178b5cce-ee74-4c59-8d3f-75c5615251b3",
   "metadata": {},
   "outputs": [],
   "source": [
    "for _, row in incorrect.iterrows():\n",
    "    print(row[\"pmc\"])\n",
    "    print(row[\"Title\"])\n",
    "    print(row[\"title_extracted\"])\n",
    "    print(\"\")"
   ]
  },
  {
   "cell_type": "code",
   "execution_count": null,
   "id": "fe559a69-5d77-400b-87b5-89b671387d31",
   "metadata": {},
   "outputs": [],
   "source": [
    "df[df[\"incorrect_title\"]][[\"Title\", \"title_extracted\"]].to_csv(\"titles.csv\")"
   ]
  }
 ],
 "metadata": {
  "kernelspec": {
   "display_name": "Python 3 (ipykernel)",
   "language": "python",
   "name": "python3"
  },
  "language_info": {
   "codemirror_mode": {
    "name": "ipython",
    "version": 3
   },
   "file_extension": ".py",
   "mimetype": "text/x-python",
   "name": "python",
   "nbconvert_exporter": "python",
   "pygments_lexer": "ipython3",
   "version": "3.11.11"
  }
 },
 "nbformat": 4,
 "nbformat_minor": 5
}
